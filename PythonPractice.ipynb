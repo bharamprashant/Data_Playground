{
 "cells": [
  {
   "cell_type": "code",
   "execution_count": 58,
   "metadata": {},
   "outputs": [],
   "source": [
    "import pandas as pd"
   ]
  },
  {
   "cell_type": "code",
   "execution_count": 59,
   "metadata": {},
   "outputs": [],
   "source": [
    "df = pd.read_csv('/home/prashant/Desktop/practice/practice_1.csv')"
   ]
  },
  {
   "cell_type": "code",
   "execution_count": 60,
   "metadata": {},
   "outputs": [
    {
     "data": {
      "text/html": [
       "<div>\n",
       "<style scoped>\n",
       "    .dataframe tbody tr th:only-of-type {\n",
       "        vertical-align: middle;\n",
       "    }\n",
       "\n",
       "    .dataframe tbody tr th {\n",
       "        vertical-align: top;\n",
       "    }\n",
       "\n",
       "    .dataframe thead th {\n",
       "        text-align: right;\n",
       "    }\n",
       "</style>\n",
       "<table border=\"1\" class=\"dataframe\">\n",
       "  <thead>\n",
       "    <tr style=\"text-align: right;\">\n",
       "      <th></th>\n",
       "      <th>id</th>\n",
       "      <th>first_name</th>\n",
       "      <th>last_name</th>\n",
       "      <th>email</th>\n",
       "      <th>shoe_type</th>\n",
       "      <th>shoe_material</th>\n",
       "      <th>shoe_color</th>\n",
       "    </tr>\n",
       "  </thead>\n",
       "  <tbody>\n",
       "    <tr>\n",
       "      <th>0</th>\n",
       "      <td>54791</td>\n",
       "      <td>Rebecca</td>\n",
       "      <td>Lindsay</td>\n",
       "      <td>RebeccaLindsay57@hotmail.com</td>\n",
       "      <td>clogs</td>\n",
       "      <td>faux-leather</td>\n",
       "      <td>black</td>\n",
       "    </tr>\n",
       "    <tr>\n",
       "      <th>1</th>\n",
       "      <td>53450</td>\n",
       "      <td>Emily</td>\n",
       "      <td>Joyce</td>\n",
       "      <td>EmilyJoyce25@gmail.com</td>\n",
       "      <td>ballet flats</td>\n",
       "      <td>faux-leather</td>\n",
       "      <td>navy</td>\n",
       "    </tr>\n",
       "    <tr>\n",
       "      <th>2</th>\n",
       "      <td>91987</td>\n",
       "      <td>Joyce</td>\n",
       "      <td>Waller</td>\n",
       "      <td>Joyce.Waller@gmail.com</td>\n",
       "      <td>sandals</td>\n",
       "      <td>fabric</td>\n",
       "      <td>black</td>\n",
       "    </tr>\n",
       "    <tr>\n",
       "      <th>3</th>\n",
       "      <td>14437</td>\n",
       "      <td>Justin</td>\n",
       "      <td>Erickson</td>\n",
       "      <td>Justin.Erickson@outlook.com</td>\n",
       "      <td>clogs</td>\n",
       "      <td>faux-leather</td>\n",
       "      <td>red</td>\n",
       "    </tr>\n",
       "    <tr>\n",
       "      <th>4</th>\n",
       "      <td>79357</td>\n",
       "      <td>Andrew</td>\n",
       "      <td>Banks</td>\n",
       "      <td>AB4318@gmail.com</td>\n",
       "      <td>boots</td>\n",
       "      <td>leather</td>\n",
       "      <td>brown</td>\n",
       "    </tr>\n",
       "  </tbody>\n",
       "</table>\n",
       "</div>"
      ],
      "text/plain": [
       "      id first_name last_name                         email     shoe_type  \\\n",
       "0  54791    Rebecca   Lindsay  RebeccaLindsay57@hotmail.com         clogs   \n",
       "1  53450      Emily     Joyce        EmilyJoyce25@gmail.com  ballet flats   \n",
       "2  91987      Joyce    Waller        Joyce.Waller@gmail.com       sandals   \n",
       "3  14437     Justin  Erickson   Justin.Erickson@outlook.com         clogs   \n",
       "4  79357     Andrew     Banks              AB4318@gmail.com         boots   \n",
       "\n",
       "  shoe_material shoe_color  \n",
       "0  faux-leather      black  \n",
       "1  faux-leather       navy  \n",
       "2        fabric      black  \n",
       "3  faux-leather        red  \n",
       "4       leather      brown  "
      ]
     },
     "execution_count": 60,
     "metadata": {},
     "output_type": "execute_result"
    }
   ],
   "source": [
    "df.head(5)"
   ]
  },
  {
   "cell_type": "code",
   "execution_count": 61,
   "metadata": {},
   "outputs": [
    {
     "data": {
      "text/html": [
       "<div>\n",
       "<style scoped>\n",
       "    .dataframe tbody tr th:only-of-type {\n",
       "        vertical-align: middle;\n",
       "    }\n",
       "\n",
       "    .dataframe tbody tr th {\n",
       "        vertical-align: top;\n",
       "    }\n",
       "\n",
       "    .dataframe thead th {\n",
       "        text-align: right;\n",
       "    }\n",
       "</style>\n",
       "<table border=\"1\" class=\"dataframe\">\n",
       "  <thead>\n",
       "    <tr style=\"text-align: right;\">\n",
       "      <th></th>\n",
       "      <th>id</th>\n",
       "      <th>first_name</th>\n",
       "      <th>last_name</th>\n",
       "      <th>email</th>\n",
       "      <th>shoe_type</th>\n",
       "      <th>shoe_material</th>\n",
       "      <th>shoe_color</th>\n",
       "    </tr>\n",
       "  </thead>\n",
       "  <tbody>\n",
       "    <tr>\n",
       "      <th>8</th>\n",
       "      <td>21586</td>\n",
       "      <td>Gabriel</td>\n",
       "      <td>Porter</td>\n",
       "      <td>GabrielPorter24@gmail.com</td>\n",
       "      <td>clogs</td>\n",
       "      <td>leather</td>\n",
       "      <td>brown</td>\n",
       "    </tr>\n",
       "  </tbody>\n",
       "</table>\n",
       "</div>"
      ],
      "text/plain": [
       "      id first_name last_name                      email shoe_type  \\\n",
       "8  21586    Gabriel    Porter  GabrielPorter24@gmail.com     clogs   \n",
       "\n",
       "  shoe_material shoe_color  \n",
       "8       leather      brown  "
      ]
     },
     "execution_count": 61,
     "metadata": {},
     "output_type": "execute_result"
    }
   ],
   "source": [
    "df[(df.shoe_type == 'clogs') & (df.shoe_color == 'brown')]"
   ]
  },
  {
   "cell_type": "code",
   "execution_count": 62,
   "metadata": {},
   "outputs": [
    {
     "data": {
      "text/html": [
       "<div>\n",
       "<style scoped>\n",
       "    .dataframe tbody tr th:only-of-type {\n",
       "        vertical-align: middle;\n",
       "    }\n",
       "\n",
       "    .dataframe tbody tr th {\n",
       "        vertical-align: top;\n",
       "    }\n",
       "\n",
       "    .dataframe thead th {\n",
       "        text-align: right;\n",
       "    }\n",
       "</style>\n",
       "<table border=\"1\" class=\"dataframe\">\n",
       "  <thead>\n",
       "    <tr style=\"text-align: right;\">\n",
       "      <th></th>\n",
       "      <th>id</th>\n",
       "      <th>first_name</th>\n",
       "      <th>last_name</th>\n",
       "      <th>email</th>\n",
       "      <th>shoe_type</th>\n",
       "      <th>shoe_material</th>\n",
       "      <th>shoe_color</th>\n",
       "    </tr>\n",
       "  </thead>\n",
       "  <tbody>\n",
       "    <tr>\n",
       "      <th>1</th>\n",
       "      <td>53450</td>\n",
       "      <td>Emily</td>\n",
       "      <td>Joyce</td>\n",
       "      <td>EmilyJoyce25@gmail.com</td>\n",
       "      <td>ballet flats</td>\n",
       "      <td>faux-leather</td>\n",
       "      <td>navy</td>\n",
       "    </tr>\n",
       "  </tbody>\n",
       "</table>\n",
       "</div>"
      ],
      "text/plain": [
       "      id first_name last_name                   email     shoe_type  \\\n",
       "1  53450      Emily     Joyce  EmilyJoyce25@gmail.com  ballet flats   \n",
       "\n",
       "  shoe_material shoe_color  \n",
       "1  faux-leather       navy  "
      ]
     },
     "execution_count": 62,
     "metadata": {},
     "output_type": "execute_result"
    }
   ],
   "source": [
    "df[(df.first_name =='Emily') & (df.last_name == 'Joyce')]"
   ]
  },
  {
   "cell_type": "code",
   "execution_count": 63,
   "metadata": {},
   "outputs": [
    {
     "name": "stdout",
     "output_type": "stream",
     "text": [
      "  name  product Id\n",
      "0   pr           1\n",
      "1  aas           2\n",
      "2   we           3\n",
      "3   rt           4\n",
      "4   ty           5\n",
      "5   yu           6\n",
      "6   ui           7\n",
      "7   io           8\n",
      "8   po           9\n"
     ]
    }
   ],
   "source": [
    "df1 = pd.DataFrame({\n",
    "    'product Id': [1,2,3,4,5,6,7,8,9],\n",
    "    'name': ['pr','aas','we','rt','ty','yu','ui','io','po'],\n",
    "})\n",
    "print(df1)"
   ]
  },
  {
   "cell_type": "code",
   "execution_count": 64,
   "metadata": {},
   "outputs": [
    {
     "name": "stdout",
     "output_type": "stream",
     "text": [
      "    Color name  number\n",
      "0    blue  par       1\n",
      "1   green  rad       2\n",
      "2     red  sum       3\n",
      "3   black  poi       4\n",
      "4  orange  ram       5\n"
     ]
    }
   ],
   "source": [
    "df2 =pd.DataFrame({\n",
    "    'name':['par', 'rad', 'sum','poi','ram'],\n",
    "    'number':[1,2,3,4,5],\n",
    "    'Color': ['blue', 'green', 'red', 'black','orange']\n",
    "})\n",
    "print(df2)"
   ]
  },
  {
   "cell_type": "code",
   "execution_count": 65,
   "metadata": {},
   "outputs": [
    {
     "name": "stdout",
     "output_type": "stream",
     "text": [
      "   sr.no      name  age  village\n",
      "0      1  prashant   12    asade\n",
      "1      2       rah   23      khu\n",
      "2      3      ckoa   23  sakmdck\n"
     ]
    }
   ],
   "source": [
    "df3 = pd.DataFrame([\n",
    "    [1,'prashant',12,'asade'],\n",
    "    [2,'rah',23,'khu'],\n",
    "    [3,'ckoa',23,'sakmdck']\n",
    "],\n",
    "    columns=[\n",
    "        'sr.no','name','age','village'\n",
    "    ],\n",
    "    \n",
    ")\n",
    "print(df3)"
   ]
  },
  {
   "cell_type": "code",
   "execution_count": 66,
   "metadata": {},
   "outputs": [
    {
     "name": "stdout",
     "output_type": "stream",
     "text": [
      "      id first_name last_name                         email     shoe_type  \\\n",
      "0  54791    Rebecca   Lindsay  RebeccaLindsay57@hotmail.com         clogs   \n",
      "1  53450      Emily     Joyce        EmilyJoyce25@gmail.com  ballet flats   \n",
      "2  91987      Joyce    Waller        Joyce.Waller@gmail.com       sandals   \n",
      "3  14437     Justin  Erickson   Justin.Erickson@outlook.com         clogs   \n",
      "4  79357     Andrew     Banks              AB4318@gmail.com         boots   \n",
      "5  52386      Julie     Marsh        JulieMarsh59@gmail.com       sandals   \n",
      "6  20487     Thomas    Jensen              TJ5470@gmail.com         clogs   \n",
      "7  76971     Janice     Hicks        Janice.Hicks@gmail.com         clogs   \n",
      "8  21586    Gabriel    Porter     GabrielPorter24@gmail.com         clogs   \n",
      "9  62083    Frances    Palmer     FrancesPalmer50@gmail.com        wedges   \n",
      "\n",
      "  shoe_material shoe_color  \n",
      "0  faux-leather      black  \n",
      "1  faux-leather       navy  \n",
      "2        fabric      black  \n",
      "3  faux-leather        red  \n",
      "4       leather      brown  \n",
      "5        fabric      black  \n",
      "6        fabric       navy  \n",
      "7  faux-leather       navy  \n",
      "8       leather      brown  \n",
      "9       leather      white  \n"
     ]
    }
   ],
   "source": [
    "df4 = pd.read_csv('/home/prashant/Desktop/practice/practice_1.csv')\n",
    "print(df4)"
   ]
  },
  {
   "cell_type": "code",
   "execution_count": 67,
   "metadata": {},
   "outputs": [
    {
     "data": {
      "text/html": [
       "<div>\n",
       "<style scoped>\n",
       "    .dataframe tbody tr th:only-of-type {\n",
       "        vertical-align: middle;\n",
       "    }\n",
       "\n",
       "    .dataframe tbody tr th {\n",
       "        vertical-align: top;\n",
       "    }\n",
       "\n",
       "    .dataframe thead th {\n",
       "        text-align: right;\n",
       "    }\n",
       "</style>\n",
       "<table border=\"1\" class=\"dataframe\">\n",
       "  <thead>\n",
       "    <tr style=\"text-align: right;\">\n",
       "      <th></th>\n",
       "      <th>id</th>\n",
       "      <th>first_name</th>\n",
       "      <th>last_name</th>\n",
       "      <th>email</th>\n",
       "      <th>shoe_type</th>\n",
       "      <th>shoe_material</th>\n",
       "      <th>shoe_color</th>\n",
       "    </tr>\n",
       "  </thead>\n",
       "  <tbody>\n",
       "    <tr>\n",
       "      <th>0</th>\n",
       "      <td>54791</td>\n",
       "      <td>Rebecca</td>\n",
       "      <td>Lindsay</td>\n",
       "      <td>RebeccaLindsay57@hotmail.com</td>\n",
       "      <td>clogs</td>\n",
       "      <td>faux-leather</td>\n",
       "      <td>black</td>\n",
       "    </tr>\n",
       "    <tr>\n",
       "      <th>1</th>\n",
       "      <td>53450</td>\n",
       "      <td>Emily</td>\n",
       "      <td>Joyce</td>\n",
       "      <td>EmilyJoyce25@gmail.com</td>\n",
       "      <td>ballet flats</td>\n",
       "      <td>faux-leather</td>\n",
       "      <td>navy</td>\n",
       "    </tr>\n",
       "    <tr>\n",
       "      <th>2</th>\n",
       "      <td>91987</td>\n",
       "      <td>Joyce</td>\n",
       "      <td>Waller</td>\n",
       "      <td>Joyce.Waller@gmail.com</td>\n",
       "      <td>sandals</td>\n",
       "      <td>fabric</td>\n",
       "      <td>black</td>\n",
       "    </tr>\n",
       "    <tr>\n",
       "      <th>3</th>\n",
       "      <td>14437</td>\n",
       "      <td>Justin</td>\n",
       "      <td>Erickson</td>\n",
       "      <td>Justin.Erickson@outlook.com</td>\n",
       "      <td>clogs</td>\n",
       "      <td>faux-leather</td>\n",
       "      <td>red</td>\n",
       "    </tr>\n",
       "    <tr>\n",
       "      <th>4</th>\n",
       "      <td>79357</td>\n",
       "      <td>Andrew</td>\n",
       "      <td>Banks</td>\n",
       "      <td>AB4318@gmail.com</td>\n",
       "      <td>boots</td>\n",
       "      <td>leather</td>\n",
       "      <td>brown</td>\n",
       "    </tr>\n",
       "  </tbody>\n",
       "</table>\n",
       "</div>"
      ],
      "text/plain": [
       "      id first_name last_name                         email     shoe_type  \\\n",
       "0  54791    Rebecca   Lindsay  RebeccaLindsay57@hotmail.com         clogs   \n",
       "1  53450      Emily     Joyce        EmilyJoyce25@gmail.com  ballet flats   \n",
       "2  91987      Joyce    Waller        Joyce.Waller@gmail.com       sandals   \n",
       "3  14437     Justin  Erickson   Justin.Erickson@outlook.com         clogs   \n",
       "4  79357     Andrew     Banks              AB4318@gmail.com         boots   \n",
       "\n",
       "  shoe_material shoe_color  \n",
       "0  faux-leather      black  \n",
       "1  faux-leather       navy  \n",
       "2        fabric      black  \n",
       "3  faux-leather        red  \n",
       "4       leather      brown  "
      ]
     },
     "execution_count": 67,
     "metadata": {},
     "output_type": "execute_result"
    }
   ],
   "source": [
    "df4.head()"
   ]
  },
  {
   "cell_type": "code",
   "execution_count": 68,
   "metadata": {},
   "outputs": [
    {
     "name": "stdout",
     "output_type": "stream",
     "text": [
      "<class 'pandas.core.frame.DataFrame'>\n",
      "RangeIndex: 10 entries, 0 to 9\n",
      "Data columns (total 7 columns):\n",
      "id               10 non-null int64\n",
      "first_name       10 non-null object\n",
      "last_name        10 non-null object\n",
      "email            10 non-null object\n",
      "shoe_type        10 non-null object\n",
      "shoe_material    10 non-null object\n",
      "shoe_color       10 non-null object\n",
      "dtypes: int64(1), object(6)\n",
      "memory usage: 640.0+ bytes\n"
     ]
    }
   ],
   "source": [
    "df4.info()"
   ]
  },
  {
   "cell_type": "code",
   "execution_count": 69,
   "metadata": {},
   "outputs": [
    {
     "name": "stdout",
     "output_type": "stream",
     "text": [
      "<class 'pandas.core.series.Series'>\n",
      "              name              age         mark\n",
      "0  Rebecca Erikson  Thomas Roberson  Diane Ochoa\n",
      "1               35               28           42\n"
     ]
    }
   ],
   "source": [
    "df5 = pd.DataFrame([\n",
    "    ['Rebecca Erikson','Thomas Roberson','Diane Ochoa'],\n",
    "    [35,28,42]],\n",
    "    \n",
    "    columns= ['name', 'age','mark'])\n",
    "age = df5.age\n",
    "print(type(age))\n",
    "print(df5)"
   ]
  },
  {
   "cell_type": "code",
   "execution_count": 70,
   "metadata": {},
   "outputs": [
    {
     "data": {
      "text/html": [
       "<div>\n",
       "<style scoped>\n",
       "    .dataframe tbody tr th:only-of-type {\n",
       "        vertical-align: middle;\n",
       "    }\n",
       "\n",
       "    .dataframe tbody tr th {\n",
       "        vertical-align: top;\n",
       "    }\n",
       "\n",
       "    .dataframe thead th {\n",
       "        text-align: right;\n",
       "    }\n",
       "</style>\n",
       "<table border=\"1\" class=\"dataframe\">\n",
       "  <thead>\n",
       "    <tr style=\"text-align: right;\">\n",
       "      <th></th>\n",
       "      <th>age</th>\n",
       "      <th>mark</th>\n",
       "      <th>name</th>\n",
       "    </tr>\n",
       "  </thead>\n",
       "  <tbody>\n",
       "    <tr>\n",
       "      <th>0</th>\n",
       "      <td>Thomas Roberson</td>\n",
       "      <td>Diane Ochoa</td>\n",
       "      <td>Rebecca Erikson</td>\n",
       "    </tr>\n",
       "    <tr>\n",
       "      <th>1</th>\n",
       "      <td>28</td>\n",
       "      <td>42</td>\n",
       "      <td>35</td>\n",
       "    </tr>\n",
       "  </tbody>\n",
       "</table>\n",
       "</div>"
      ],
      "text/plain": [
       "               age         mark             name\n",
       "0  Thomas Roberson  Diane Ochoa  Rebecca Erikson\n",
       "1               28           42               35"
      ]
     },
     "execution_count": 70,
     "metadata": {},
     "output_type": "execute_result"
    }
   ],
   "source": [
    "df5[['age','mark','name']]"
   ]
  },
  {
   "cell_type": "code",
   "execution_count": 71,
   "metadata": {},
   "outputs": [],
   "source": [
    "ageName = df5[['age','name']]"
   ]
  },
  {
   "cell_type": "code",
   "execution_count": 72,
   "metadata": {},
   "outputs": [
    {
     "name": "stdout",
     "output_type": "stream",
     "text": [
      "<class 'pandas.core.frame.DataFrame'>\n"
     ]
    }
   ],
   "source": [
    "print(type(ageName))"
   ]
  },
  {
   "cell_type": "code",
   "execution_count": 73,
   "metadata": {},
   "outputs": [],
   "source": [
    "ageName=df5.iloc(1)"
   ]
  },
  {
   "cell_type": "code",
   "execution_count": 74,
   "metadata": {},
   "outputs": [],
   "source": [
    "ageName=df.iloc[1]"
   ]
  },
  {
   "cell_type": "code",
   "execution_count": 75,
   "metadata": {},
   "outputs": [
    {
     "data": {
      "text/html": [
       "<div>\n",
       "<style scoped>\n",
       "    .dataframe tbody tr th:only-of-type {\n",
       "        vertical-align: middle;\n",
       "    }\n",
       "\n",
       "    .dataframe tbody tr th {\n",
       "        vertical-align: top;\n",
       "    }\n",
       "\n",
       "    .dataframe thead th {\n",
       "        text-align: right;\n",
       "    }\n",
       "</style>\n",
       "<table border=\"1\" class=\"dataframe\">\n",
       "  <thead>\n",
       "    <tr style=\"text-align: right;\">\n",
       "      <th></th>\n",
       "      <th>name</th>\n",
       "      <th>age</th>\n",
       "      <th>mark</th>\n",
       "    </tr>\n",
       "  </thead>\n",
       "  <tbody>\n",
       "    <tr>\n",
       "      <th>1</th>\n",
       "      <td>35</td>\n",
       "      <td>28</td>\n",
       "      <td>42</td>\n",
       "    </tr>\n",
       "  </tbody>\n",
       "</table>\n",
       "</div>"
      ],
      "text/plain": [
       "  name age mark\n",
       "1   35  28   42"
      ]
     },
     "execution_count": 75,
     "metadata": {},
     "output_type": "execute_result"
    }
   ],
   "source": [
    "df5.iloc[1:3]"
   ]
  },
  {
   "cell_type": "code",
   "execution_count": 76,
   "metadata": {},
   "outputs": [
    {
     "name": "stdout",
     "output_type": "stream",
     "text": [
      "<class 'pandas.core.frame.DataFrame'>\n",
      "RangeIndex: 2 entries, 0 to 1\n",
      "Data columns (total 3 columns):\n",
      "name    2 non-null object\n",
      "age     2 non-null object\n",
      "mark    2 non-null object\n",
      "dtypes: object(3)\n",
      "memory usage: 128.0+ bytes\n"
     ]
    }
   ],
   "source": [
    "df5.info()"
   ]
  },
  {
   "cell_type": "code",
   "execution_count": 77,
   "metadata": {},
   "outputs": [
    {
     "data": {
      "text/html": [
       "<div>\n",
       "<style scoped>\n",
       "    .dataframe tbody tr th:only-of-type {\n",
       "        vertical-align: middle;\n",
       "    }\n",
       "\n",
       "    .dataframe tbody tr th {\n",
       "        vertical-align: top;\n",
       "    }\n",
       "\n",
       "    .dataframe thead th {\n",
       "        text-align: right;\n",
       "    }\n",
       "</style>\n",
       "<table border=\"1\" class=\"dataframe\">\n",
       "  <thead>\n",
       "    <tr style=\"text-align: right;\">\n",
       "      <th></th>\n",
       "      <th>name</th>\n",
       "      <th>age</th>\n",
       "      <th>mark</th>\n",
       "    </tr>\n",
       "  </thead>\n",
       "  <tbody>\n",
       "  </tbody>\n",
       "</table>\n",
       "</div>"
      ],
      "text/plain": [
       "Empty DataFrame\n",
       "Columns: [name, age, mark]\n",
       "Index: []"
      ]
     },
     "execution_count": 77,
     "metadata": {},
     "output_type": "execute_result"
    }
   ],
   "source": [
    "df5[df5.age==35]"
   ]
  },
  {
   "cell_type": "code",
   "execution_count": 78,
   "metadata": {},
   "outputs": [
    {
     "data": {
      "text/html": [
       "<div>\n",
       "<style scoped>\n",
       "    .dataframe tbody tr th:only-of-type {\n",
       "        vertical-align: middle;\n",
       "    }\n",
       "\n",
       "    .dataframe tbody tr th {\n",
       "        vertical-align: top;\n",
       "    }\n",
       "\n",
       "    .dataframe thead th {\n",
       "        text-align: right;\n",
       "    }\n",
       "</style>\n",
       "<table border=\"1\" class=\"dataframe\">\n",
       "  <thead>\n",
       "    <tr style=\"text-align: right;\">\n",
       "      <th></th>\n",
       "      <th>name</th>\n",
       "      <th>age</th>\n",
       "      <th>mark</th>\n",
       "    </tr>\n",
       "  </thead>\n",
       "  <tbody>\n",
       "  </tbody>\n",
       "</table>\n",
       "</div>"
      ],
      "text/plain": [
       "Empty DataFrame\n",
       "Columns: [name, age, mark]\n",
       "Index: []"
      ]
     },
     "execution_count": 78,
     "metadata": {},
     "output_type": "execute_result"
    }
   ],
   "source": [
    "df5[df5.age==40]"
   ]
  },
  {
   "cell_type": "code",
   "execution_count": 79,
   "metadata": {},
   "outputs": [],
   "source": [
    "df6 = pd.DataFrame([\n",
    "  ['January', 100, 100, 23, 100],\n",
    "  ['February', 51, 45, 145, 45],\n",
    "  ['March', 81, 96, 65, 96],\n",
    "  ['April', 80, 80, 54, 180],\n",
    "  ['May', 51, 54, 54, 154],\n",
    "  ['June', 112, 109, 79, 129]],\n",
    "  columns=['month', 'clinic_east',\n",
    "           'clinic_north', 'clinic_south',\n",
    "           'clinic_west'])"
   ]
  },
  {
   "cell_type": "code",
   "execution_count": null,
   "metadata": {},
   "outputs": [],
   "source": []
  },
  {
   "cell_type": "code",
   "execution_count": 83,
   "metadata": {},
   "outputs": [],
   "source": [
    "January = df6[df6.month == 'January']"
   ]
  },
  {
   "cell_type": "code",
   "execution_count": 84,
   "metadata": {},
   "outputs": [
    {
     "name": "stdout",
     "output_type": "stream",
     "text": [
      "     month  clinic_east  clinic_north  clinic_south  clinic_west\n",
      "0  January          100           100            23          100\n"
     ]
    }
   ],
   "source": [
    "print(January)"
   ]
  },
  {
   "cell_type": "code",
   "execution_count": 93,
   "metadata": {},
   "outputs": [
    {
     "name": "stdout",
     "output_type": "stream",
     "text": [
      "     month  clinic_east  clinic_north  clinic_south  clinic_west\n",
      "0  January          100           100            23          100\n",
      "5     June          112           109            79          129\n"
     ]
    }
   ],
   "source": [
    "df =df6[(df6.month=='January')|(df6.clinic_east>100)]\n",
    "print(df)"
   ]
  },
  {
   "cell_type": "code",
   "execution_count": 88,
   "metadata": {},
   "outputs": [],
   "source": [
    "January_feb_Mar = df6[df6.month.isin(['January','February','March'])]"
   ]
  },
  {
   "cell_type": "code",
   "execution_count": 89,
   "metadata": {},
   "outputs": [
    {
     "name": "stdout",
     "output_type": "stream",
     "text": [
      "     month  clinic_east  clinic_north  clinic_south  clinic_west\n",
      "0  January          100           100            23          100\n"
     ]
    }
   ],
   "source": [
    "print(January_feb_Mar)"
   ]
  },
  {
   "cell_type": "code",
   "execution_count": 94,
   "metadata": {},
   "outputs": [
    {
     "name": "stdout",
     "output_type": "stream",
     "text": [
      "     month  clinic_east  clinic_north  clinic_south  clinic_west\n",
      "0  January          100           100            23          100\n",
      "5     June          112           109            79          129\n"
     ]
    }
   ],
   "source": [
    "print(df)"
   ]
  },
  {
   "cell_type": "code",
   "execution_count": 95,
   "metadata": {},
   "outputs": [
    {
     "name": "stdout",
     "output_type": "stream",
     "text": [
      "     month  clinic_east  clinic_north  clinic_south  clinic_west\n",
      "0  January          100           100            23          100\n",
      "5     June          112           109            79          129\n"
     ]
    }
   ],
   "source": [
    "print(df6)"
   ]
  },
  {
   "cell_type": "code",
   "execution_count": 96,
   "metadata": {},
   "outputs": [],
   "source": [
    "df7 = pd.DataFrame([\n",
    "  ['January', 100, 100, 23, 100],\n",
    "  ['February', 51, 45, 145, 45],\n",
    "  ['March', 81, 96, 65, 96],\n",
    "  ['April', 80, 80, 54, 180],\n",
    "  ['May', 51, 54, 54, 154],\n",
    "  ['June', 112, 109, 79, 129]],\n",
    "  columns=['month', 'clinic_east',\n",
    "           'clinic_north', 'clinic_south',\n",
    "           'clinic_west'])"
   ]
  },
  {
   "cell_type": "code",
   "execution_count": 97,
   "metadata": {},
   "outputs": [
    {
     "name": "stdout",
     "output_type": "stream",
     "text": [
      "      month  clinic_east  clinic_north  clinic_south  clinic_west\n",
      "0   January          100           100            23          100\n",
      "1  February           51            45           145           45\n",
      "2     March           81            96            65           96\n",
      "3     April           80            80            54          180\n",
      "4       May           51            54            54          154\n",
      "5      June          112           109            79          129\n"
     ]
    }
   ],
   "source": [
    "print(df7)"
   ]
  },
  {
   "cell_type": "code",
   "execution_count": 101,
   "metadata": {},
   "outputs": [
    {
     "data": {
      "text/html": [
       "<div>\n",
       "<style scoped>\n",
       "    .dataframe tbody tr th:only-of-type {\n",
       "        vertical-align: middle;\n",
       "    }\n",
       "\n",
       "    .dataframe tbody tr th {\n",
       "        vertical-align: top;\n",
       "    }\n",
       "\n",
       "    .dataframe thead th {\n",
       "        text-align: right;\n",
       "    }\n",
       "</style>\n",
       "<table border=\"1\" class=\"dataframe\">\n",
       "  <thead>\n",
       "    <tr style=\"text-align: right;\">\n",
       "      <th></th>\n",
       "      <th>month</th>\n",
       "      <th>clinic_east</th>\n",
       "      <th>clinic_north</th>\n",
       "      <th>clinic_south</th>\n",
       "      <th>clinic_west</th>\n",
       "    </tr>\n",
       "  </thead>\n",
       "  <tbody>\n",
       "    <tr>\n",
       "      <th>0</th>\n",
       "      <td>January</td>\n",
       "      <td>100</td>\n",
       "      <td>100</td>\n",
       "      <td>23</td>\n",
       "      <td>100</td>\n",
       "    </tr>\n",
       "  </tbody>\n",
       "</table>\n",
       "</div>"
      ],
      "text/plain": [
       "     month  clinic_east  clinic_north  clinic_south  clinic_west\n",
       "0  January          100           100            23          100"
      ]
     },
     "execution_count": 101,
     "metadata": {},
     "output_type": "execute_result"
    }
   ],
   "source": [
    "df7[df7.clinic_west == 100]"
   ]
  },
  {
   "cell_type": "code",
   "execution_count": null,
   "metadata": {},
   "outputs": [],
   "source": []
  }
 ],
 "metadata": {
  "kernelspec": {
   "display_name": "Python 3",
   "language": "python",
   "name": "python3"
  },
  "language_info": {
   "codemirror_mode": {
    "name": "ipython",
    "version": 3
   },
   "file_extension": ".py",
   "mimetype": "text/x-python",
   "name": "python",
   "nbconvert_exporter": "python",
   "pygments_lexer": "ipython3",
   "version": "3.6.4"
  }
 },
 "nbformat": 4,
 "nbformat_minor": 2
}
