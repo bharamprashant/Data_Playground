{
 "cells": [
  {
   "cell_type": "code",
   "execution_count": 1,
   "metadata": {},
   "outputs": [],
   "source": [
    "import pandas as pd"
   ]
  },
  {
   "cell_type": "code",
   "execution_count": 2,
   "metadata": {},
   "outputs": [
    {
     "data": {
      "text/html": [
       "<div>\n",
       "<style scoped>\n",
       "    .dataframe tbody tr th:only-of-type {\n",
       "        vertical-align: middle;\n",
       "    }\n",
       "\n",
       "    .dataframe tbody tr th {\n",
       "        vertical-align: top;\n",
       "    }\n",
       "\n",
       "    .dataframe thead th {\n",
       "        text-align: right;\n",
       "    }\n",
       "</style>\n",
       "<table border=\"1\" class=\"dataframe\">\n",
       "  <thead>\n",
       "    <tr style=\"text-align: right;\">\n",
       "      <th></th>\n",
       "      <th>employerid</th>\n",
       "      <th>Company Name</th>\n",
       "      <th>SUM of risk_principal_outstanding</th>\n",
       "      <th>SUM of 30+ POS</th>\n",
       "      <th>SUM of POTENTIAL FLDG POS</th>\n",
       "      <th>COUNTA of sl loan status</th>\n",
       "      <th>SUM of PFLDG_loans</th>\n",
       "    </tr>\n",
       "  </thead>\n",
       "  <tbody>\n",
       "    <tr>\n",
       "      <th>0</th>\n",
       "      <td>190</td>\n",
       "      <td>Garuda Maruti</td>\n",
       "      <td>0</td>\n",
       "      <td>0</td>\n",
       "      <td>0.00</td>\n",
       "      <td>2</td>\n",
       "      <td>0</td>\n",
       "    </tr>\n",
       "    <tr>\n",
       "      <th>1</th>\n",
       "      <td>191</td>\n",
       "      <td>Sonarome Pvt Ltd</td>\n",
       "      <td>7,640</td>\n",
       "      <td>7,640</td>\n",
       "      <td>7639.62</td>\n",
       "      <td>2</td>\n",
       "      <td>1</td>\n",
       "    </tr>\n",
       "    <tr>\n",
       "      <th>2</th>\n",
       "      <td>193</td>\n",
       "      <td>Housejoy/Sarvaloka</td>\n",
       "      <td>186,442</td>\n",
       "      <td>10,726</td>\n",
       "      <td>0.00</td>\n",
       "      <td>5</td>\n",
       "      <td>0</td>\n",
       "    </tr>\n",
       "    <tr>\n",
       "      <th>3</th>\n",
       "      <td>195</td>\n",
       "      <td>Indus Intex P ltd</td>\n",
       "      <td>289,070</td>\n",
       "      <td>147,201</td>\n",
       "      <td>147201.19</td>\n",
       "      <td>13</td>\n",
       "      <td>4</td>\n",
       "    </tr>\n",
       "    <tr>\n",
       "      <th>4</th>\n",
       "      <td>196</td>\n",
       "      <td>Kataria MOtors</td>\n",
       "      <td>0</td>\n",
       "      <td>0</td>\n",
       "      <td>0.00</td>\n",
       "      <td>2</td>\n",
       "      <td>0</td>\n",
       "    </tr>\n",
       "  </tbody>\n",
       "</table>\n",
       "</div>"
      ],
      "text/plain": [
       "  employerid        Company Name SUM of risk_principal_outstanding  \\\n",
       "0        190       Garuda Maruti                                 0   \n",
       "1        191    Sonarome Pvt Ltd                             7,640   \n",
       "2        193  Housejoy/Sarvaloka                           186,442   \n",
       "3        195   Indus Intex P ltd                           289,070   \n",
       "4        196      Kataria MOtors                                 0   \n",
       "\n",
       "  SUM of 30+ POS  SUM of POTENTIAL FLDG POS  COUNTA of sl loan status  \\\n",
       "0              0                       0.00                         2   \n",
       "1          7,640                    7639.62                         2   \n",
       "2         10,726                       0.00                         5   \n",
       "3        147,201                  147201.19                        13   \n",
       "4              0                       0.00                         2   \n",
       "\n",
       "   SUM of PFLDG_loans  \n",
       "0                   0  \n",
       "1                   1  \n",
       "2                   0  \n",
       "3                   4  \n",
       "4                   0  "
      ]
     },
     "execution_count": 2,
     "metadata": {},
     "output_type": "execute_result"
    }
   ],
   "source": [
    "data_1  = pd.read_csv('/home/prashant/Downloads/Tie_U_1.csv')\n",
    "data_1.head()"
   ]
  },
  {
   "cell_type": "code",
   "execution_count": 3,
   "metadata": {},
   "outputs": [
    {
     "data": {
      "text/html": [
       "<div>\n",
       "<style scoped>\n",
       "    .dataframe tbody tr th:only-of-type {\n",
       "        vertical-align: middle;\n",
       "    }\n",
       "\n",
       "    .dataframe tbody tr th {\n",
       "        vertical-align: top;\n",
       "    }\n",
       "\n",
       "    .dataframe thead th {\n",
       "        text-align: right;\n",
       "    }\n",
       "</style>\n",
       "<table border=\"1\" class=\"dataframe\">\n",
       "  <thead>\n",
       "    <tr style=\"text-align: right;\">\n",
       "      <th></th>\n",
       "      <th>_id</th>\n",
       "      <th>name</th>\n",
       "      <th>sector_name</th>\n",
       "      <th>industry_name</th>\n",
       "      <th>industry_group</th>\n",
       "      <th>industry_subgroup</th>\n",
       "    </tr>\n",
       "  </thead>\n",
       "  <tbody>\n",
       "    <tr>\n",
       "      <th>0</th>\n",
       "      <td>482</td>\n",
       "      <td>TATA CONSULTANCY SERVICES LIMITED</td>\n",
       "      <td>Information Technology</td>\n",
       "      <td>Software &amp; Services</td>\n",
       "      <td>IT Software &amp; Services</td>\n",
       "      <td>IT Training Services</td>\n",
       "    </tr>\n",
       "    <tr>\n",
       "      <th>1</th>\n",
       "      <td>361</td>\n",
       "      <td>SICAL LOGISTICS LIMITED.</td>\n",
       "      <td>Industrials</td>\n",
       "      <td>Transportation</td>\n",
       "      <td>Transport Services</td>\n",
       "      <td>Logistics</td>\n",
       "    </tr>\n",
       "    <tr>\n",
       "      <th>2</th>\n",
       "      <td>434</td>\n",
       "      <td>EIH LIMITED</td>\n",
       "      <td>Fast Moving Consumer Goods (FMCG)</td>\n",
       "      <td>Food, Beverages &amp; Tobacco</td>\n",
       "      <td>Food Products</td>\n",
       "      <td>Other Food Products</td>\n",
       "    </tr>\n",
       "    <tr>\n",
       "      <th>3</th>\n",
       "      <td>243</td>\n",
       "      <td>TEAMLEASE SERVICES LIMITED</td>\n",
       "      <td>Consumer Discretionary Goods &amp; Services (CDGS)</td>\n",
       "      <td>Diversified Consumer Services</td>\n",
       "      <td>Diversified Consumer Services</td>\n",
       "      <td>Specialized Consumer Services</td>\n",
       "    </tr>\n",
       "    <tr>\n",
       "      <th>4</th>\n",
       "      <td>437</td>\n",
       "      <td>LEMON TREE HOTELS LIMITED</td>\n",
       "      <td>Consumer Discretionary Goods &amp; Services (CDGS)</td>\n",
       "      <td>Hotels, Restaurants &amp; Tourism</td>\n",
       "      <td>Hotels, Restaurants &amp; Tourism</td>\n",
       "      <td>Hotels</td>\n",
       "    </tr>\n",
       "  </tbody>\n",
       "</table>\n",
       "</div>"
      ],
      "text/plain": [
       "   _id                               name  \\\n",
       "0  482  TATA CONSULTANCY SERVICES LIMITED   \n",
       "1  361           SICAL LOGISTICS LIMITED.   \n",
       "2  434                        EIH LIMITED   \n",
       "3  243         TEAMLEASE SERVICES LIMITED   \n",
       "4  437          LEMON TREE HOTELS LIMITED   \n",
       "\n",
       "                                      sector_name  \\\n",
       "0                          Information Technology   \n",
       "1                                     Industrials   \n",
       "2               Fast Moving Consumer Goods (FMCG)   \n",
       "3  Consumer Discretionary Goods & Services (CDGS)   \n",
       "4  Consumer Discretionary Goods & Services (CDGS)   \n",
       "\n",
       "                   industry_name                 industry_group  \\\n",
       "0            Software & Services         IT Software & Services   \n",
       "1                 Transportation             Transport Services   \n",
       "2      Food, Beverages & Tobacco                  Food Products   \n",
       "3  Diversified Consumer Services  Diversified Consumer Services   \n",
       "4  Hotels, Restaurants & Tourism  Hotels, Restaurants & Tourism   \n",
       "\n",
       "               industry_subgroup  \n",
       "0           IT Training Services  \n",
       "1                      Logistics  \n",
       "2            Other Food Products  \n",
       "3  Specialized Consumer Services  \n",
       "4                         Hotels  "
      ]
     },
     "execution_count": 3,
     "metadata": {},
     "output_type": "execute_result"
    }
   ],
   "source": [
    "data_2 = pd.read_csv('/home/prashant/Downloads/sample_insustry.csv')\n",
    "data_2.head()"
   ]
  },
  {
   "cell_type": "code",
   "execution_count": 18,
   "metadata": {},
   "outputs": [
    {
     "data": {
      "text/plain": [
       "employerid                            object\n",
       "Company Name                          object\n",
       "SUM of risk_principal_outstanding     object\n",
       "SUM of 30+ POS                        object\n",
       "SUM of POTENTIAL FLDG POS            float64\n",
       "COUNTA of sl loan status               int64\n",
       "SUM of PFLDG_loans                     int64\n",
       "dtype: object"
      ]
     },
     "execution_count": 18,
     "metadata": {},
     "output_type": "execute_result"
    }
   ],
   "source": [
    "# data_1.dtypes\n",
    "data_1['employerid'].astype('object').head()\n",
    "data_1.dtypes"
   ]
  },
  {
   "cell_type": "code",
   "execution_count": 22,
   "metadata": {},
   "outputs": [
    {
     "data": {
      "text/plain": [
       "_id                   int64\n",
       "name                 object\n",
       "sector_name          object\n",
       "industry_name        object\n",
       "industry_group       object\n",
       "industry_subgroup    object\n",
       "dtype: object"
      ]
     },
     "execution_count": 22,
     "metadata": {},
     "output_type": "execute_result"
    }
   ],
   "source": [
    "data_2['_id'].astype('object')\n",
    "data_2.dtypes"
   ]
  },
  {
   "cell_type": "code",
   "execution_count": 17,
   "metadata": {},
   "outputs": [
    {
     "ename": "ValueError",
     "evalue": "You are trying to merge on object and int64 columns. If you wish to proceed you should use pd.concat",
     "output_type": "error",
     "traceback": [
      "\u001b[0;31m---------------------------------------------------------------------------\u001b[0m",
      "\u001b[0;31mValueError\u001b[0m                                Traceback (most recent call last)",
      "\u001b[0;32m<ipython-input-17-c5788667a1b3>\u001b[0m in \u001b[0;36m<module>\u001b[0;34m()\u001b[0m\n\u001b[0;32m----> 1\u001b[0;31m \u001b[0mfinal_data\u001b[0m \u001b[0;34m=\u001b[0m \u001b[0mpd\u001b[0m\u001b[0;34m.\u001b[0m\u001b[0mmerge\u001b[0m\u001b[0;34m(\u001b[0m\u001b[0mdata_1\u001b[0m\u001b[0;34m,\u001b[0m \u001b[0mdata_2\u001b[0m\u001b[0;34m,\u001b[0m \u001b[0mleft_on\u001b[0m\u001b[0;34m=\u001b[0m\u001b[0;34m'employerid'\u001b[0m\u001b[0;34m,\u001b[0m \u001b[0mright_on\u001b[0m\u001b[0;34m=\u001b[0m\u001b[0;34m'_id'\u001b[0m\u001b[0;34m)\u001b[0m\u001b[0;34m\u001b[0m\u001b[0m\n\u001b[0m",
      "\u001b[0;32m~/anaconda3/lib/python3.6/site-packages/pandas/core/reshape/merge.py\u001b[0m in \u001b[0;36mmerge\u001b[0;34m(left, right, how, on, left_on, right_on, left_index, right_index, sort, suffixes, copy, indicator, validate)\u001b[0m\n\u001b[1;32m     59\u001b[0m                          \u001b[0mright_index\u001b[0m\u001b[0;34m=\u001b[0m\u001b[0mright_index\u001b[0m\u001b[0;34m,\u001b[0m \u001b[0msort\u001b[0m\u001b[0;34m=\u001b[0m\u001b[0msort\u001b[0m\u001b[0;34m,\u001b[0m \u001b[0msuffixes\u001b[0m\u001b[0;34m=\u001b[0m\u001b[0msuffixes\u001b[0m\u001b[0;34m,\u001b[0m\u001b[0;34m\u001b[0m\u001b[0m\n\u001b[1;32m     60\u001b[0m                          \u001b[0mcopy\u001b[0m\u001b[0;34m=\u001b[0m\u001b[0mcopy\u001b[0m\u001b[0;34m,\u001b[0m \u001b[0mindicator\u001b[0m\u001b[0;34m=\u001b[0m\u001b[0mindicator\u001b[0m\u001b[0;34m,\u001b[0m\u001b[0;34m\u001b[0m\u001b[0m\n\u001b[0;32m---> 61\u001b[0;31m                          validate=validate)\n\u001b[0m\u001b[1;32m     62\u001b[0m     \u001b[0;32mreturn\u001b[0m \u001b[0mop\u001b[0m\u001b[0;34m.\u001b[0m\u001b[0mget_result\u001b[0m\u001b[0;34m(\u001b[0m\u001b[0;34m)\u001b[0m\u001b[0;34m\u001b[0m\u001b[0m\n\u001b[1;32m     63\u001b[0m \u001b[0;34m\u001b[0m\u001b[0m\n",
      "\u001b[0;32m~/anaconda3/lib/python3.6/site-packages/pandas/core/reshape/merge.py\u001b[0m in \u001b[0;36m__init__\u001b[0;34m(self, left, right, how, on, left_on, right_on, axis, left_index, right_index, sort, suffixes, copy, indicator, validate)\u001b[0m\n\u001b[1;32m    553\u001b[0m         \u001b[0;31m# validate the merge keys dtypes. We may need to coerce\u001b[0m\u001b[0;34m\u001b[0m\u001b[0;34m\u001b[0m\u001b[0m\n\u001b[1;32m    554\u001b[0m         \u001b[0;31m# to avoid incompat dtypes\u001b[0m\u001b[0;34m\u001b[0m\u001b[0;34m\u001b[0m\u001b[0m\n\u001b[0;32m--> 555\u001b[0;31m         \u001b[0mself\u001b[0m\u001b[0;34m.\u001b[0m\u001b[0m_maybe_coerce_merge_keys\u001b[0m\u001b[0;34m(\u001b[0m\u001b[0;34m)\u001b[0m\u001b[0;34m\u001b[0m\u001b[0m\n\u001b[0m\u001b[1;32m    556\u001b[0m \u001b[0;34m\u001b[0m\u001b[0m\n\u001b[1;32m    557\u001b[0m         \u001b[0;31m# If argument passed to validate,\u001b[0m\u001b[0;34m\u001b[0m\u001b[0;34m\u001b[0m\u001b[0m\n",
      "\u001b[0;32m~/anaconda3/lib/python3.6/site-packages/pandas/core/reshape/merge.py\u001b[0m in \u001b[0;36m_maybe_coerce_merge_keys\u001b[0;34m(self)\u001b[0m\n\u001b[1;32m    984\u001b[0m             elif (not is_numeric_dtype(lk)\n\u001b[1;32m    985\u001b[0m                     and (is_numeric_dtype(rk) and not is_bool_dtype(rk))):\n\u001b[0;32m--> 986\u001b[0;31m                 \u001b[0;32mraise\u001b[0m \u001b[0mValueError\u001b[0m\u001b[0;34m(\u001b[0m\u001b[0mmsg\u001b[0m\u001b[0;34m)\u001b[0m\u001b[0;34m\u001b[0m\u001b[0m\n\u001b[0m\u001b[1;32m    987\u001b[0m             \u001b[0;32melif\u001b[0m \u001b[0mis_datetimelike\u001b[0m\u001b[0;34m(\u001b[0m\u001b[0mlk\u001b[0m\u001b[0;34m)\u001b[0m \u001b[0;32mand\u001b[0m \u001b[0;32mnot\u001b[0m \u001b[0mis_datetimelike\u001b[0m\u001b[0;34m(\u001b[0m\u001b[0mrk\u001b[0m\u001b[0;34m)\u001b[0m\u001b[0;34m:\u001b[0m\u001b[0;34m\u001b[0m\u001b[0m\n\u001b[1;32m    988\u001b[0m                 \u001b[0;32mraise\u001b[0m \u001b[0mValueError\u001b[0m\u001b[0;34m(\u001b[0m\u001b[0mmsg\u001b[0m\u001b[0;34m)\u001b[0m\u001b[0;34m\u001b[0m\u001b[0m\n",
      "\u001b[0;31mValueError\u001b[0m: You are trying to merge on object and int64 columns. If you wish to proceed you should use pd.concat"
     ]
    }
   ],
   "source": [
    "final_data = pd.merge(data_1, data_2, left_on='employerid', right_on='_id')"
   ]
  },
  {
   "cell_type": "code",
   "execution_count": null,
   "metadata": {},
   "outputs": [],
   "source": []
  }
 ],
 "metadata": {
  "kernelspec": {
   "display_name": "Python 3",
   "language": "python",
   "name": "python3"
  },
  "language_info": {
   "codemirror_mode": {
    "name": "ipython",
    "version": 3
   },
   "file_extension": ".py",
   "mimetype": "text/x-python",
   "name": "python",
   "nbconvert_exporter": "python",
   "pygments_lexer": "ipython3",
   "version": "3.6.4"
  }
 },
 "nbformat": 4,
 "nbformat_minor": 2
}
