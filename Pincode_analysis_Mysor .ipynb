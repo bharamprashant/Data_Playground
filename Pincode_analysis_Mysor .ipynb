{
 "cells": [
  {
   "cell_type": "code",
   "execution_count": 1,
   "metadata": {},
   "outputs": [],
   "source": [
    "import pandas as pd\n",
    "import csv\n",
    "import requests\n",
    "from ast import literal_eval"
   ]
  },
  {
   "cell_type": "code",
   "execution_count": 2,
   "metadata": {},
   "outputs": [],
   "source": [
    "all_pincodes = pd.read_csv(\"/home/prashant/Downloads/pincode/pincodes.csv\")"
   ]
  },
  {
   "cell_type": "code",
   "execution_count": 3,
   "metadata": {},
   "outputs": [],
   "source": [
    "currently_unserviceable = pd.read_csv('/home/prashant/sandbox/saurabh_list.csv')"
   ]
  },
  {
   "cell_type": "code",
   "execution_count": 4,
   "metadata": {},
   "outputs": [],
   "source": [
    "All_lat_long_pincodes = pd.read_csv('/home/prashant/Downloads/pincode/merged_1.csv')"
   ]
  },
  {
   "cell_type": "code",
   "execution_count": 5,
   "metadata": {},
   "outputs": [],
   "source": [
    "pincodes_with_district_pincodes = pd.read_csv('/home/prashant/Downloads/pincode/pin_codes.csv')"
   ]
  },
  {
   "cell_type": "code",
   "execution_count": 6,
   "metadata": {},
   "outputs": [],
   "source": [
    "pincodes_with_cityname_v2 = currently_unserviceable.merge(pincodes_with_district_pincodes, on='pincode')"
   ]
  },
  {
   "cell_type": "code",
   "execution_count": 7,
   "metadata": {},
   "outputs": [],
   "source": [
    "pincodes_with_cityname_v2.districtname.value_counts()\n",
    "pincodes_with_cityname_v2.to_csv('/home/prashant/Downloads/pincode/saurabh_pincode/pincodes_with_cityname_v2.csv')"
   ]
  },
  {
   "cell_type": "code",
   "execution_count": 24,
   "metadata": {},
   "outputs": [],
   "source": [
    "missing_unpin = [x for x in currently_unserviceable.pincode if x not in pincodes_with_cityname_v2.pincode.unique()]"
   ]
  },
  {
   "cell_type": "code",
   "execution_count": 25,
   "metadata": {},
   "outputs": [
    {
     "data": {
      "text/plain": [
       "[571608, 570021, 570024, 641608, 642118, 642131, 641106, 642124, 642153]"
      ]
     },
     "execution_count": 25,
     "metadata": {},
     "output_type": "execute_result"
    }
   ],
   "source": [
    "missing_unpin"
   ]
  },
  {
   "cell_type": "code",
   "execution_count": 30,
   "metadata": {},
   "outputs": [
    {
     "name": "stdout",
     "output_type": "stream",
     "text": [
      "<class 'pandas.core.frame.DataFrame'>\n",
      "Int64Index: 194 entries, 0 to 193\n",
      "Data columns (total 4 columns):\n",
      "pincode         194 non-null int64\n",
      "districtname    194 non-null object\n",
      "statename       194 non-null object\n",
      "serviceable     194 non-null int64\n",
      "dtypes: int64(2), object(2)\n",
      "memory usage: 7.6+ KB\n"
     ]
    }
   ],
   "source": [
    "pincodes_with_cityname_v2.info()"
   ]
  },
  {
   "cell_type": "code",
   "execution_count": 36,
   "metadata": {},
   "outputs": [],
   "source": [
    "pincodes_with_cityname_lat_long_v2 = pincodes_with_cityname_v2.merge(All_lat_long_pincodes, on='pincode')"
   ]
  },
  {
   "cell_type": "code",
   "execution_count": 37,
   "metadata": {},
   "outputs": [
    {
     "name": "stdout",
     "output_type": "stream",
     "text": [
      "<class 'pandas.core.frame.DataFrame'>\n",
      "Int64Index: 143 entries, 0 to 142\n",
      "Data columns (total 6 columns):\n",
      "pincode         143 non-null int64\n",
      "districtname    143 non-null object\n",
      "statename       143 non-null object\n",
      "serviceable     143 non-null int64\n",
      "pincode_lat     143 non-null float64\n",
      "pincode_long    143 non-null float64\n",
      "dtypes: float64(2), int64(2), object(2)\n",
      "memory usage: 7.8+ KB\n"
     ]
    }
   ],
   "source": [
    "pincodes_with_cityname_lat_long_v2.info()"
   ]
  },
  {
   "cell_type": "code",
   "execution_count": null,
   "metadata": {},
   "outputs": [],
   "source": []
  }
 ],
 "metadata": {
  "kernelspec": {
   "display_name": "Python 3",
   "language": "python",
   "name": "python3"
  },
  "language_info": {
   "codemirror_mode": {
    "name": "ipython",
    "version": 3
   },
   "file_extension": ".py",
   "mimetype": "text/x-python",
   "name": "python",
   "nbconvert_exporter": "python",
   "pygments_lexer": "ipython3",
   "version": "3.6.4"
  }
 },
 "nbformat": 4,
 "nbformat_minor": 2
}
