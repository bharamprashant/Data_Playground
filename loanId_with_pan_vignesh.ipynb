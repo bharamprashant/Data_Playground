{
 "cells": [
  {
   "cell_type": "code",
   "execution_count": 1,
   "metadata": {},
   "outputs": [],
   "source": [
    "import pandas as pd\n",
    "import csv\n",
    "import requests\n",
    "from ast import literal_eval\n",
    "from xlrd import open_workbook"
   ]
  },
  {
   "cell_type": "code",
   "execution_count": 7,
   "metadata": {},
   "outputs": [],
   "source": [
    "# pan_shubhloans=pd.read_excel('/home/prashant/Downloads/vignesh/pan subhloan.xlsx')"
   ]
  },
  {
   "cell_type": "code",
   "execution_count": 2,
   "metadata": {},
   "outputs": [],
   "source": [
    "pan_shubhloans = pd.read_csv('/home/prashant/Downloads/vignesh/pan_subhloan.csv')"
   ]
  },
  {
   "cell_type": "code",
   "execution_count": 3,
   "metadata": {},
   "outputs": [],
   "source": [
    "master_sheet = pd.read_csv('/home/prashant/Downloads/vignesh/subhloan master sheet.csv')"
   ]
  },
  {
   "cell_type": "code",
   "execution_count": 34,
   "metadata": {},
   "outputs": [
    {
     "data": {
      "text/html": [
       "<div>\n",
       "<style scoped>\n",
       "    .dataframe tbody tr th:only-of-type {\n",
       "        vertical-align: middle;\n",
       "    }\n",
       "\n",
       "    .dataframe tbody tr th {\n",
       "        vertical-align: top;\n",
       "    }\n",
       "\n",
       "    .dataframe thead th {\n",
       "        text-align: right;\n",
       "    }\n",
       "</style>\n",
       "<table border=\"1\" class=\"dataframe\">\n",
       "  <thead>\n",
       "    <tr style=\"text-align: right;\">\n",
       "      <th></th>\n",
       "      <th>Sl.No</th>\n",
       "      <th>Borrower</th>\n",
       "      <th>Name as per Pooja Sheet</th>\n",
       "      <th>Loan_No_as_per_Pooja_Sheet</th>\n",
       "      <th>Borrower as per Bank</th>\n",
       "      <th>Reference Number</th>\n",
       "      <th>UMRN</th>\n",
       "      <th>Date</th>\n",
       "      <th>EMI Amount</th>\n",
       "      <th>Payment Mode</th>\n",
       "      <th>...</th>\n",
       "      <th>Nov/17</th>\n",
       "      <th>Dec/17</th>\n",
       "      <th>Jan/18</th>\n",
       "      <th>Feb/18</th>\n",
       "      <th>Mar/18</th>\n",
       "      <th>Apr/18</th>\n",
       "      <th>May/18</th>\n",
       "      <th>Jun/18</th>\n",
       "      <th>updated date</th>\n",
       "      <th>Status</th>\n",
       "    </tr>\n",
       "  </thead>\n",
       "  <tbody>\n",
       "    <tr>\n",
       "      <th>0</th>\n",
       "      <td>373</td>\n",
       "      <td>Ravishankar</td>\n",
       "      <td>Ravishankar</td>\n",
       "      <td>'000000001</td>\n",
       "      <td>RAVISHANKAR</td>\n",
       "      <td>1</td>\n",
       "      <td>ICIC0000000004496003</td>\n",
       "      <td>10th</td>\n",
       "      <td>5,489</td>\n",
       "      <td>NACH</td>\n",
       "      <td>...</td>\n",
       "      <td>Cleared</td>\n",
       "      <td>Cleared</td>\n",
       "      <td>Cleared</td>\n",
       "      <td>Cleared</td>\n",
       "      <td>Cleared</td>\n",
       "      <td>Cleared</td>\n",
       "      <td>Cleared</td>\n",
       "      <td>Cleared</td>\n",
       "      <td>NaN</td>\n",
       "      <td>Clear</td>\n",
       "    </tr>\n",
       "    <tr>\n",
       "      <th>1</th>\n",
       "      <td>374</td>\n",
       "      <td>Yogesh Baldevbhai Badreshiya</td>\n",
       "      <td>Yogesh Baldevbhai Badreshiya</td>\n",
       "      <td>'000000002</td>\n",
       "      <td>YOGESH BADRESHIYA</td>\n",
       "      <td>000000002</td>\n",
       "      <td>HDFC0000000004993179</td>\n",
       "      <td>10th</td>\n",
       "      <td>4,825</td>\n",
       "      <td>NACH</td>\n",
       "      <td>...</td>\n",
       "      <td>Recd. On 24.11.17</td>\n",
       "      <td>Cleared</td>\n",
       "      <td>Cleared</td>\n",
       "      <td>Cleared</td>\n",
       "      <td>Cleared</td>\n",
       "      <td>Cleared</td>\n",
       "      <td>Cleared</td>\n",
       "      <td>Cleared</td>\n",
       "      <td>NaN</td>\n",
       "      <td>Clear</td>\n",
       "    </tr>\n",
       "    <tr>\n",
       "      <th>2</th>\n",
       "      <td>372</td>\n",
       "      <td>Nagaraj C</td>\n",
       "      <td>Nagaraj C</td>\n",
       "      <td>'000000003</td>\n",
       "      <td>NAGARAJA C</td>\n",
       "      <td>3</td>\n",
       "      <td>PSIB0000000000361767</td>\n",
       "      <td>10th</td>\n",
       "      <td>5,489</td>\n",
       "      <td>NACH</td>\n",
       "      <td>...</td>\n",
       "      <td>Cleared</td>\n",
       "      <td>Recd. On 14.12.17</td>\n",
       "      <td>Cleared</td>\n",
       "      <td>Recd. On 12.3.18</td>\n",
       "      <td>Recd. On 10.05.18</td>\n",
       "      <td>RETURNED</td>\n",
       "      <td>RETURNED</td>\n",
       "      <td>Returned</td>\n",
       "      <td>NaN</td>\n",
       "      <td>Overdue</td>\n",
       "    </tr>\n",
       "    <tr>\n",
       "      <th>3</th>\n",
       "      <td>371</td>\n",
       "      <td>Desuru Rajeeva</td>\n",
       "      <td>Desuru Rajeeva</td>\n",
       "      <td>'000000004</td>\n",
       "      <td>D RAJEEVA</td>\n",
       "      <td>4</td>\n",
       "      <td>ANDB0000000001257927</td>\n",
       "      <td>10th</td>\n",
       "      <td>5,489</td>\n",
       "      <td>NACH</td>\n",
       "      <td>...</td>\n",
       "      <td>Cleared</td>\n",
       "      <td>Cleared</td>\n",
       "      <td>Cleared</td>\n",
       "      <td>Cleared</td>\n",
       "      <td>Cleared</td>\n",
       "      <td>Cleared</td>\n",
       "      <td>Cleared</td>\n",
       "      <td>Cleared</td>\n",
       "      <td>NaN</td>\n",
       "      <td>Clear</td>\n",
       "    </tr>\n",
       "    <tr>\n",
       "      <th>4</th>\n",
       "      <td>370</td>\n",
       "      <td>Rita Sharma</td>\n",
       "      <td>Rita Sharma</td>\n",
       "      <td>'000000005</td>\n",
       "      <td>RITA SHARMA</td>\n",
       "      <td>5</td>\n",
       "      <td>SYNB0000000001393883</td>\n",
       "      <td>10th</td>\n",
       "      <td>5,489</td>\n",
       "      <td>NACH</td>\n",
       "      <td>...</td>\n",
       "      <td>Recd. On 28.05.18</td>\n",
       "      <td>Recd. On 28.05.18</td>\n",
       "      <td>Recd. On 28.05.18</td>\n",
       "      <td>Recd. On 28.05.18</td>\n",
       "      <td>Rs.3555on28.05.18</td>\n",
       "      <td>RETURNED</td>\n",
       "      <td>RETURNED</td>\n",
       "      <td>Returned</td>\n",
       "      <td>NaN</td>\n",
       "      <td>Overdue</td>\n",
       "    </tr>\n",
       "  </tbody>\n",
       "</table>\n",
       "<p>5 rows × 24 columns</p>\n",
       "</div>"
      ],
      "text/plain": [
       "   Sl.No                      Borrower       Name as per Pooja Sheet  \\\n",
       "0    373                   Ravishankar                   Ravishankar   \n",
       "1    374  Yogesh Baldevbhai Badreshiya  Yogesh Baldevbhai Badreshiya   \n",
       "2    372                     Nagaraj C                     Nagaraj C   \n",
       "3    371                Desuru Rajeeva                Desuru Rajeeva   \n",
       "4    370                   Rita Sharma                   Rita Sharma   \n",
       "\n",
       "  Loan_No_as_per_Pooja_Sheet Borrower as per Bank Reference Number  \\\n",
       "0                 '000000001          RAVISHANKAR                1   \n",
       "1                 '000000002    YOGESH BADRESHIYA        000000002   \n",
       "2                 '000000003           NAGARAJA C                3   \n",
       "3                 '000000004            D RAJEEVA                4   \n",
       "4                 '000000005          RITA SHARMA                5   \n",
       "\n",
       "                   UMRN   Date  EMI Amount  Payment Mode   ...     \\\n",
       "0  ICIC0000000004496003  10th        5,489          NACH   ...      \n",
       "1  HDFC0000000004993179  10th        4,825          NACH   ...      \n",
       "2  PSIB0000000000361767  10th        5,489          NACH   ...      \n",
       "3  ANDB0000000001257927  10th        5,489          NACH   ...      \n",
       "4  SYNB0000000001393883  10th        5,489          NACH   ...      \n",
       "\n",
       "              Nov/17             Dec/17             Jan/18             Feb/18  \\\n",
       "0            Cleared            Cleared            Cleared            Cleared   \n",
       "1  Recd. On 24.11.17            Cleared            Cleared            Cleared   \n",
       "2            Cleared  Recd. On 14.12.17            Cleared   Recd. On 12.3.18   \n",
       "3            Cleared            Cleared            Cleared            Cleared   \n",
       "4  Recd. On 28.05.18  Recd. On 28.05.18  Recd. On 28.05.18  Recd. On 28.05.18   \n",
       "\n",
       "              Mar/18    Apr/18    May/18    Jun/18 updated date   Status  \n",
       "0            Cleared   Cleared   Cleared   Cleared          NaN    Clear  \n",
       "1            Cleared   Cleared   Cleared   Cleared          NaN    Clear  \n",
       "2  Recd. On 10.05.18  RETURNED  RETURNED  Returned          NaN  Overdue  \n",
       "3            Cleared   Cleared   Cleared   Cleared          NaN    Clear  \n",
       "4  Rs.3555on28.05.18  RETURNED  RETURNED  Returned          NaN  Overdue  \n",
       "\n",
       "[5 rows x 24 columns]"
      ]
     },
     "execution_count": 34,
     "metadata": {},
     "output_type": "execute_result"
    }
   ],
   "source": [
    "master_sheet.head()"
   ]
  },
  {
   "cell_type": "code",
   "execution_count": 35,
   "metadata": {},
   "outputs": [
    {
     "data": {
      "text/html": [
       "<div>\n",
       "<style scoped>\n",
       "    .dataframe tbody tr th:only-of-type {\n",
       "        vertical-align: middle;\n",
       "    }\n",
       "\n",
       "    .dataframe tbody tr th {\n",
       "        vertical-align: top;\n",
       "    }\n",
       "\n",
       "    .dataframe thead th {\n",
       "        text-align: right;\n",
       "    }\n",
       "</style>\n",
       "<table border=\"1\" class=\"dataframe\">\n",
       "  <thead>\n",
       "    <tr style=\"text-align: right;\">\n",
       "      <th></th>\n",
       "      <th>S. No</th>\n",
       "      <th>Borrower's Name</th>\n",
       "      <th>PAN</th>\n",
       "      <th>Loan_No_as_per_Pooja_Sheet</th>\n",
       "      <th>Mode Of Repayment</th>\n",
       "    </tr>\n",
       "  </thead>\n",
       "  <tbody>\n",
       "    <tr>\n",
       "      <th>0</th>\n",
       "      <td>1</td>\n",
       "      <td>Abhilash Kumar</td>\n",
       "      <td>DQJPK6706H</td>\n",
       "      <td>007-0000016</td>\n",
       "      <td>NACH</td>\n",
       "    </tr>\n",
       "    <tr>\n",
       "      <th>1</th>\n",
       "      <td>2</td>\n",
       "      <td>Mohammad Asif</td>\n",
       "      <td>AOKPM3529C</td>\n",
       "      <td>007-0000018</td>\n",
       "      <td>NACH</td>\n",
       "    </tr>\n",
       "    <tr>\n",
       "      <th>2</th>\n",
       "      <td>3</td>\n",
       "      <td>M Devendram</td>\n",
       "      <td>BAEPM3982Q</td>\n",
       "      <td>007-0000019</td>\n",
       "      <td>NACH</td>\n",
       "    </tr>\n",
       "    <tr>\n",
       "      <th>3</th>\n",
       "      <td>4</td>\n",
       "      <td>Prakash B</td>\n",
       "      <td>BHHPP1850J</td>\n",
       "      <td>007-0000029</td>\n",
       "      <td>NACH</td>\n",
       "    </tr>\n",
       "    <tr>\n",
       "      <th>4</th>\n",
       "      <td>5</td>\n",
       "      <td>Joy Thomas</td>\n",
       "      <td>NaN</td>\n",
       "      <td>007-0000033</td>\n",
       "      <td>NACH</td>\n",
       "    </tr>\n",
       "  </tbody>\n",
       "</table>\n",
       "</div>"
      ],
      "text/plain": [
       "   S. No Borrower's Name         PAN Loan_No_as_per_Pooja_Sheet  \\\n",
       "0      1  Abhilash Kumar  DQJPK6706H                007-0000016   \n",
       "1      2   Mohammad Asif  AOKPM3529C                007-0000018   \n",
       "2      3     M Devendram  BAEPM3982Q                007-0000019   \n",
       "3      4       Prakash B  BHHPP1850J                007-0000029   \n",
       "4      5      Joy Thomas         NaN                007-0000033   \n",
       "\n",
       "  Mode Of Repayment  \n",
       "0              NACH  \n",
       "1              NACH  \n",
       "2              NACH  \n",
       "3              NACH  \n",
       "4              NACH  "
      ]
     },
     "execution_count": 35,
     "metadata": {},
     "output_type": "execute_result"
    }
   ],
   "source": [
    "pan_shubhloans.head()"
   ]
  },
  {
   "cell_type": "markdown",
   "metadata": {},
   "source": [
    "#### PAN Duplicates found in Vignesh's sheet"
   ]
  },
  {
   "cell_type": "code",
   "execution_count": 53,
   "metadata": {},
   "outputs": [],
   "source": [
    "pan_shubhloans.columns = ['serial_no', 'name', 'PAN', 'loan_no', 'repayment_mode']"
   ]
  },
  {
   "cell_type": "code",
   "execution_count": 99,
   "metadata": {},
   "outputs": [],
   "source": [
    "pan_shubhloans[pan_shubhloans.PAN.duplicated()]\n",
    "pan_shubhloans[pan_shubhloans.PAN.duplicated()].to_csv('/home/prashant/Downloads/vignesh/pan_shubhloans_duplicate.csv', index=False)"
   ]
  },
  {
   "cell_type": "code",
   "execution_count": 68,
   "metadata": {},
   "outputs": [
    {
     "data": {
      "text/html": [
       "<div>\n",
       "<style scoped>\n",
       "    .dataframe tbody tr th:only-of-type {\n",
       "        vertical-align: middle;\n",
       "    }\n",
       "\n",
       "    .dataframe tbody tr th {\n",
       "        vertical-align: top;\n",
       "    }\n",
       "\n",
       "    .dataframe thead th {\n",
       "        text-align: right;\n",
       "    }\n",
       "</style>\n",
       "<table border=\"1\" class=\"dataframe\">\n",
       "  <thead>\n",
       "    <tr style=\"text-align: right;\">\n",
       "      <th></th>\n",
       "      <th>serial_no</th>\n",
       "      <th>name</th>\n",
       "      <th>PAN</th>\n",
       "      <th>loan_no</th>\n",
       "      <th>repayment_mode</th>\n",
       "    </tr>\n",
       "  </thead>\n",
       "  <tbody>\n",
       "    <tr>\n",
       "      <th>4</th>\n",
       "      <td>5</td>\n",
       "      <td>Joy Thomas</td>\n",
       "      <td>NaN</td>\n",
       "      <td>007-0000033</td>\n",
       "      <td>NACH</td>\n",
       "    </tr>\n",
       "    <tr>\n",
       "      <th>13</th>\n",
       "      <td>14</td>\n",
       "      <td>Ganesh Murthy</td>\n",
       "      <td>NaN</td>\n",
       "      <td>007-0000052</td>\n",
       "      <td>NACH</td>\n",
       "    </tr>\n",
       "    <tr>\n",
       "      <th>19</th>\n",
       "      <td>20</td>\n",
       "      <td>Amit Shah</td>\n",
       "      <td>NaN</td>\n",
       "      <td>007-0000060</td>\n",
       "      <td>NACH</td>\n",
       "    </tr>\n",
       "    <tr>\n",
       "      <th>147</th>\n",
       "      <td>148</td>\n",
       "      <td>Srinivasan Meena</td>\n",
       "      <td>NaN</td>\n",
       "      <td>007-0000302</td>\n",
       "      <td>Online Transfer</td>\n",
       "    </tr>\n",
       "  </tbody>\n",
       "</table>\n",
       "</div>"
      ],
      "text/plain": [
       "     serial_no              name  PAN      loan_no   repayment_mode\n",
       "4            5        Joy Thomas  NaN  007-0000033             NACH\n",
       "13          14     Ganesh Murthy  NaN  007-0000052             NACH\n",
       "19          20         Amit Shah  NaN  007-0000060             NACH\n",
       "147        148  Srinivasan Meena  NaN  007-0000302  Online Transfer"
      ]
     },
     "execution_count": 68,
     "metadata": {},
     "output_type": "execute_result"
    }
   ],
   "source": [
    "pan_shubhloans[pan_shubhloans.PAN.isnull()]"
   ]
  },
  {
   "cell_type": "code",
   "execution_count": 69,
   "metadata": {},
   "outputs": [],
   "source": [
    "deduped_pan_shubhloans = pan_shubhloans.drop_duplicates(subset='PAN')\n",
    "deduped_pan_shubhloans = deduped_pan_shubhloans.dropna(subset=['PAN'])"
   ]
  },
  {
   "cell_type": "markdown",
   "metadata": {},
   "source": [
    "#### Loan no null in Vignesh's sheet"
   ]
  },
  {
   "cell_type": "code",
   "execution_count": 100,
   "metadata": {},
   "outputs": [],
   "source": [
    "deduped_pan_shubhloans[deduped_pan_shubhloans.loan_no.isnull()]\n",
    "deduped_pan_shubhloans[deduped_pan_shubhloans.loan_no.isnull()].to_csv('/home/prashant/Downloads/vignesh/Loan_no_null.csv')"
   ]
  },
  {
   "cell_type": "code",
   "execution_count": 71,
   "metadata": {},
   "outputs": [],
   "source": [
    "deduped_pan_shubhloans = deduped_pan_shubhloans.dropna(subset=['loan_no'])"
   ]
  },
  {
   "cell_type": "markdown",
   "metadata": {},
   "source": [
    "#### Loan no duplicate in Vignesh's sheet"
   ]
  },
  {
   "cell_type": "code",
   "execution_count": 101,
   "metadata": {},
   "outputs": [],
   "source": [
    "deduped_pan_shubhloans[deduped_pan_shubhloans.loan_no.duplicated()]\n",
    "deduped_pan_shubhloans[deduped_pan_shubhloans.loan_no.duplicated()].to_csv('/home/prashant/Downloads/vignesh/Loan_no_duplicate_vi_list.csv')"
   ]
  },
  {
   "cell_type": "code",
   "execution_count": 73,
   "metadata": {},
   "outputs": [],
   "source": [
    "deduped = deduped_pan_shubhloans.dropna(subset=['loan_no'])"
   ]
  },
  {
   "cell_type": "code",
   "execution_count": 82,
   "metadata": {},
   "outputs": [],
   "source": [
    "deduped.loan_no = deduped.loan_no.str.replace(\"'\", \"\")"
   ]
  },
  {
   "cell_type": "code",
   "execution_count": 87,
   "metadata": {},
   "outputs": [],
   "source": [
    "master_sheet.columns = ['serial_no', 'name', 'name_pooja_sheet',\n",
    "       'loan_no', 'borrower_bank',\n",
    "       'Reference Number', 'UMRN', 'Date', ' EMI Amount ', 'Payment Mode',\n",
    "       'Jul/17', 'Aug/17', 'Sep/17', 'Oct/17', 'Nov/17', 'Dec/17', 'Jan/18',\n",
    "       'Feb/18', 'Mar/18', 'Apr/18', 'May/18', 'Jun/18', 'updated date',\n",
    "       'Status']"
   ]
  },
  {
   "cell_type": "code",
   "execution_count": 89,
   "metadata": {},
   "outputs": [
    {
     "data": {
      "text/html": [
       "<div>\n",
       "<style scoped>\n",
       "    .dataframe tbody tr th:only-of-type {\n",
       "        vertical-align: middle;\n",
       "    }\n",
       "\n",
       "    .dataframe tbody tr th {\n",
       "        vertical-align: top;\n",
       "    }\n",
       "\n",
       "    .dataframe thead th {\n",
       "        text-align: right;\n",
       "    }\n",
       "</style>\n",
       "<table border=\"1\" class=\"dataframe\">\n",
       "  <thead>\n",
       "    <tr style=\"text-align: right;\">\n",
       "      <th></th>\n",
       "      <th>serial_no</th>\n",
       "      <th>name</th>\n",
       "      <th>name_pooja_sheet</th>\n",
       "      <th>loan_no</th>\n",
       "      <th>borrower_bank</th>\n",
       "      <th>Reference Number</th>\n",
       "      <th>UMRN</th>\n",
       "      <th>Date</th>\n",
       "      <th>EMI Amount</th>\n",
       "      <th>Payment Mode</th>\n",
       "      <th>...</th>\n",
       "      <th>Nov/17</th>\n",
       "      <th>Dec/17</th>\n",
       "      <th>Jan/18</th>\n",
       "      <th>Feb/18</th>\n",
       "      <th>Mar/18</th>\n",
       "      <th>Apr/18</th>\n",
       "      <th>May/18</th>\n",
       "      <th>Jun/18</th>\n",
       "      <th>updated date</th>\n",
       "      <th>Status</th>\n",
       "    </tr>\n",
       "  </thead>\n",
       "  <tbody>\n",
       "  </tbody>\n",
       "</table>\n",
       "<p>0 rows × 24 columns</p>\n",
       "</div>"
      ],
      "text/plain": [
       "Empty DataFrame\n",
       "Columns: [serial_no, name, name_pooja_sheet, loan_no, borrower_bank, Reference Number, UMRN, Date,  EMI Amount , Payment Mode, Jul/17, Aug/17, Sep/17, Oct/17, Nov/17, Dec/17, Jan/18, Feb/18, Mar/18, Apr/18, May/18, Jun/18, updated date, Status]\n",
       "Index: []\n",
       "\n",
       "[0 rows x 24 columns]"
      ]
     },
     "execution_count": 89,
     "metadata": {},
     "output_type": "execute_result"
    }
   ],
   "source": [
    "master_sheet[master_sheet.loan_no.duplicated()]"
   ]
  },
  {
   "cell_type": "code",
   "execution_count": 91,
   "metadata": {},
   "outputs": [
    {
     "data": {
      "text/html": [
       "<div>\n",
       "<style scoped>\n",
       "    .dataframe tbody tr th:only-of-type {\n",
       "        vertical-align: middle;\n",
       "    }\n",
       "\n",
       "    .dataframe tbody tr th {\n",
       "        vertical-align: top;\n",
       "    }\n",
       "\n",
       "    .dataframe thead th {\n",
       "        text-align: right;\n",
       "    }\n",
       "</style>\n",
       "<table border=\"1\" class=\"dataframe\">\n",
       "  <thead>\n",
       "    <tr style=\"text-align: right;\">\n",
       "      <th></th>\n",
       "      <th>serial_no</th>\n",
       "      <th>name</th>\n",
       "      <th>name_pooja_sheet</th>\n",
       "      <th>loan_no</th>\n",
       "      <th>borrower_bank</th>\n",
       "      <th>Reference Number</th>\n",
       "      <th>UMRN</th>\n",
       "      <th>Date</th>\n",
       "      <th>EMI Amount</th>\n",
       "      <th>Payment Mode</th>\n",
       "      <th>...</th>\n",
       "      <th>Nov/17</th>\n",
       "      <th>Dec/17</th>\n",
       "      <th>Jan/18</th>\n",
       "      <th>Feb/18</th>\n",
       "      <th>Mar/18</th>\n",
       "      <th>Apr/18</th>\n",
       "      <th>May/18</th>\n",
       "      <th>Jun/18</th>\n",
       "      <th>updated date</th>\n",
       "      <th>Status</th>\n",
       "    </tr>\n",
       "  </thead>\n",
       "  <tbody>\n",
       "  </tbody>\n",
       "</table>\n",
       "<p>0 rows × 24 columns</p>\n",
       "</div>"
      ],
      "text/plain": [
       "Empty DataFrame\n",
       "Columns: [serial_no, name, name_pooja_sheet, loan_no, borrower_bank, Reference Number, UMRN, Date,  EMI Amount , Payment Mode, Jul/17, Aug/17, Sep/17, Oct/17, Nov/17, Dec/17, Jan/18, Feb/18, Mar/18, Apr/18, May/18, Jun/18, updated date, Status]\n",
       "Index: []\n",
       "\n",
       "[0 rows x 24 columns]"
      ]
     },
     "execution_count": 91,
     "metadata": {},
     "output_type": "execute_result"
    }
   ],
   "source": [
    "master_sheet[master_sheet.loan_no.isnull()]"
   ]
  },
  {
   "cell_type": "code",
   "execution_count": 93,
   "metadata": {},
   "outputs": [],
   "source": [
    "master_sheet.loan_no = master_sheet.loan_no.str.replace(\"'\", \"\")"
   ]
  },
  {
   "cell_type": "code",
   "execution_count": 95,
   "metadata": {},
   "outputs": [
    {
     "name": "stdout",
     "output_type": "stream",
     "text": [
      "1002 936\n"
     ]
    }
   ],
   "source": [
    "print(deduped.loan_no.nunique(), master_sheet.loan_no.nunique())"
   ]
  },
  {
   "cell_type": "code",
   "execution_count": 96,
   "metadata": {},
   "outputs": [],
   "source": [
    "merged = master_sheet.merge(deduped, on='loan_no')"
   ]
  },
  {
   "cell_type": "code",
   "execution_count": 111,
   "metadata": {},
   "outputs": [],
   "source": [
    "merged.to_csv('/home/prashant/Downloads/vignesh/merged.csv')"
   ]
  },
  {
   "cell_type": "code",
   "execution_count": 116,
   "metadata": {},
   "outputs": [],
   "source": [
    "# missing_id = set(master_sheet.loan_no) - set(merged.loan_no)"
   ]
  },
  {
   "cell_type": "code",
   "execution_count": 118,
   "metadata": {},
   "outputs": [],
   "source": [
    "# missing_id.to_csv('/home/prashant/Downloads/vignesh/missing_id.csv')"
   ]
  },
  {
   "cell_type": "code",
   "execution_count": 102,
   "metadata": {},
   "outputs": [],
   "source": [
    "# master_sheet.drop_duplicates(subset='Loan_No_as_per_Pooja_Sheet', keep=False)"
   ]
  },
  {
   "cell_type": "code",
   "execution_count": 103,
   "metadata": {},
   "outputs": [],
   "source": [
    "# master_sheet"
   ]
  },
  {
   "cell_type": "code",
   "execution_count": 110,
   "metadata": {},
   "outputs": [],
   "source": [
    "# pan_shubhloans.drop_duplicates(subset='Loan_No_as_per_Pooja_Sheet')"
   ]
  },
  {
   "cell_type": "code",
   "execution_count": 104,
   "metadata": {},
   "outputs": [],
   "source": [
    "# mapping_Id_pan = pan_shubhloans.merge(master_sheet, on='Loan_No_as_per_Pooja_Sheet')"
   ]
  },
  {
   "cell_type": "code",
   "execution_count": 105,
   "metadata": {},
   "outputs": [],
   "source": [
    "# mapping_Id_pan"
   ]
  },
  {
   "cell_type": "code",
   "execution_count": 106,
   "metadata": {},
   "outputs": [],
   "source": [
    "# mapping_Id_pan.to_csv('/home/prashant/Downloads/vignesh/ma.csv')"
   ]
  },
  {
   "cell_type": "code",
   "execution_count": 107,
   "metadata": {},
   "outputs": [],
   "source": [
    "# mapping_Id_pan.drop_duplicates().head(2)"
   ]
  },
  {
   "cell_type": "code",
   "execution_count": 109,
   "metadata": {},
   "outputs": [],
   "source": [
    "# mapping_Id_pan[['PAN', 'Loan_No_Pooja_Sheet']].head()"
   ]
  },
  {
   "cell_type": "code",
   "execution_count": 14,
   "metadata": {},
   "outputs": [],
   "source": [
    "# master_sheet.head()"
   ]
  },
  {
   "cell_type": "code",
   "execution_count": 2,
   "metadata": {},
   "outputs": [],
   "source": [
    "# pan_shubhloans.head()"
   ]
  },
  {
   "cell_type": "code",
   "execution_count": 3,
   "metadata": {},
   "outputs": [],
   "source": [
    "# common = master_sheet.merge(pan_shubhloans, on='Loan_No_Pooja_Sheet')\n",
    "# missing_in_pooja_sheet = master_sheet[~master_sheet.Loan_No_Pooja_Sheet.isin(common.Loan_No_Pooja_Sheet)]"
   ]
  },
  {
   "cell_type": "code",
   "execution_count": 4,
   "metadata": {},
   "outputs": [],
   "source": [
    "# missing_from_pooja_list=[x for x in master_sheet.Loan_No_Pooja_Sheet if x not in pan_shubhloans.Loan_No_Pooja_Sheet.unique()]"
   ]
  },
  {
   "cell_type": "code",
   "execution_count": 5,
   "metadata": {},
   "outputs": [],
   "source": [
    "\n",
    "# missing_from_pooja_list= out.csv('/home/prashant/Downloads/vignesh/missing_from_pooja_list')"
   ]
  },
  {
   "cell_type": "code",
   "execution_count": 6,
   "metadata": {},
   "outputs": [],
   "source": [
    "# missing_in_pooja_sheet.count()"
   ]
  },
  {
   "cell_type": "code",
   "execution_count": 7,
   "metadata": {},
   "outputs": [],
   "source": [
    "# missing_from_pooja_list"
   ]
  },
  {
   "cell_type": "code",
   "execution_count": 8,
   "metadata": {},
   "outputs": [],
   "source": [
    "# missing_in_pooja_sheet"
   ]
  },
  {
   "cell_type": "code",
   "execution_count": 56,
   "metadata": {},
   "outputs": [],
   "source": [
    "# loan_id_master_sheet = master_sheet['Loan No Pooja Sheet']\n",
    "# loan_id_pan_shubhloan = pan_shubhloans[['Loan No Pooja Sheet']\n",
    "# print(\"test\")\n",
    "# # type(loan_id_master_sheet)\n",
    "# # type(loan_id_pan_shubhloan)\n",
    "# # diff = list(set(loan_id_master_sheet) - set(loan_id_pan_shubhloan))\n",
    "# # diff"
   ]
  },
  {
   "cell_type": "code",
   "execution_count": 9,
   "metadata": {},
   "outputs": [],
   "source": [
    "# mapping_Id_pan.to_csv('/home/prashant/Downloads/vignesh/mapping_Id_pan.csv')"
   ]
  },
  {
   "cell_type": "code",
   "execution_count": 10,
   "metadata": {},
   "outputs": [],
   "source": [
    "# missing_from_pooja_list"
   ]
  },
  {
   "cell_type": "code",
   "execution_count": 11,
   "metadata": {},
   "outputs": [],
   "source": [
    "# df = pd.read_csv('/home/prashant/Downloads/vignesh/ma.csv')\n",
    "# deduped_pans = df.drop_duplicates(subset='PAN')\n",
    "# deduped_pans = deduped_pans.dropna(subset=['PAN'])"
   ]
  },
  {
   "cell_type": "code",
   "execution_count": 12,
   "metadata": {},
   "outputs": [],
   "source": [
    "# deduped_pans.columns"
   ]
  },
  {
   "cell_type": "code",
   "execution_count": 13,
   "metadata": {},
   "outputs": [],
   "source": [
    "# deduped_pans.to_csv('deduped_pans.csv', index=False)"
   ]
  },
  {
   "cell_type": "code",
   "execution_count": null,
   "metadata": {},
   "outputs": [],
   "source": []
  }
 ],
 "metadata": {
  "kernelspec": {
   "display_name": "Python 3",
   "language": "python",
   "name": "python3"
  },
  "language_info": {
   "codemirror_mode": {
    "name": "ipython",
    "version": 3
   },
   "file_extension": ".py",
   "mimetype": "text/x-python",
   "name": "python",
   "nbconvert_exporter": "python",
   "pygments_lexer": "ipython3",
   "version": "3.6.4"
  }
 },
 "nbformat": 4,
 "nbformat_minor": 2
}
