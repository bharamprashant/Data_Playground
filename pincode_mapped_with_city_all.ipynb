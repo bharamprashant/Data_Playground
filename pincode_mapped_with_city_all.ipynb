{
 "cells": [
  {
   "cell_type": "code",
   "execution_count": 1,
   "metadata": {},
   "outputs": [],
   "source": [
    "import pandas as pd"
   ]
  },
  {
   "cell_type": "code",
   "execution_count": 2,
   "metadata": {},
   "outputs": [],
   "source": [
    "data = pd.read_csv('/home/prashant/Downloads/pincode/pin_codes.csv')"
   ]
  },
  {
   "cell_type": "code",
   "execution_count": 22,
   "metadata": {},
   "outputs": [],
   "source": [
    "data_2 = pd.read_csv('/home/prashant/Downloads/pincode/mapped_with_City.csv')"
   ]
  },
  {
   "cell_type": "code",
   "execution_count": 33,
   "metadata": {},
   "outputs": [],
   "source": [
    "data_4 = pd.read_csv('/home/prashant/Downloads/pincode/pin_codes_2.csv')"
   ]
  },
  {
   "cell_type": "code",
   "execution_count": 37,
   "metadata": {},
   "outputs": [],
   "source": [
    "prashant_list = data_4.merge(data, on='pincode')"
   ]
  },
  {
   "cell_type": "code",
   "execution_count": 36,
   "metadata": {},
   "outputs": [],
   "source": [
    "prashant_list.to_csv('/home/prashant/Downloads/pincode/prashant_list.csv')"
   ]
  },
  {
   "cell_type": "code",
   "execution_count": 23,
   "metadata": {},
   "outputs": [
    {
     "data": {
      "text/html": [
       "<div>\n",
       "<style scoped>\n",
       "    .dataframe tbody tr th:only-of-type {\n",
       "        vertical-align: middle;\n",
       "    }\n",
       "\n",
       "    .dataframe tbody tr th {\n",
       "        vertical-align: top;\n",
       "    }\n",
       "\n",
       "    .dataframe thead th {\n",
       "        text-align: right;\n",
       "    }\n",
       "</style>\n",
       "<table border=\"1\" class=\"dataframe\">\n",
       "  <thead>\n",
       "    <tr style=\"text-align: right;\">\n",
       "      <th></th>\n",
       "      <th>pincode</th>\n",
       "      <th>districtname</th>\n",
       "      <th>statename</th>\n",
       "      <th>serviceable</th>\n",
       "    </tr>\n",
       "  </thead>\n",
       "  <tbody>\n",
       "    <tr>\n",
       "      <th>0</th>\n",
       "      <td>110001</td>\n",
       "      <td>Central Delhi</td>\n",
       "      <td>DELHI</td>\n",
       "      <td>1</td>\n",
       "    </tr>\n",
       "    <tr>\n",
       "      <th>1</th>\n",
       "      <td>110002</td>\n",
       "      <td>Central Delhi</td>\n",
       "      <td>DELHI</td>\n",
       "      <td>1</td>\n",
       "    </tr>\n",
       "    <tr>\n",
       "      <th>2</th>\n",
       "      <td>110003</td>\n",
       "      <td>Central Delhi</td>\n",
       "      <td>DELHI</td>\n",
       "      <td>1</td>\n",
       "    </tr>\n",
       "    <tr>\n",
       "      <th>3</th>\n",
       "      <td>110004</td>\n",
       "      <td>Central Delhi</td>\n",
       "      <td>DELHI</td>\n",
       "      <td>1</td>\n",
       "    </tr>\n",
       "    <tr>\n",
       "      <th>4</th>\n",
       "      <td>110005</td>\n",
       "      <td>Central Delhi</td>\n",
       "      <td>DELHI</td>\n",
       "      <td>1</td>\n",
       "    </tr>\n",
       "  </tbody>\n",
       "</table>\n",
       "</div>"
      ],
      "text/plain": [
       "   pincode   districtname statename  serviceable\n",
       "0   110001  Central Delhi     DELHI            1\n",
       "1   110002  Central Delhi     DELHI            1\n",
       "2   110003  Central Delhi     DELHI            1\n",
       "3   110004  Central Delhi     DELHI            1\n",
       "4   110005  Central Delhi     DELHI            1"
      ]
     },
     "execution_count": 23,
     "metadata": {},
     "output_type": "execute_result"
    }
   ],
   "source": [
    "data.head()"
   ]
  },
  {
   "cell_type": "code",
   "execution_count": 24,
   "metadata": {},
   "outputs": [
    {
     "data": {
      "text/html": [
       "<div>\n",
       "<style scoped>\n",
       "    .dataframe tbody tr th:only-of-type {\n",
       "        vertical-align: middle;\n",
       "    }\n",
       "\n",
       "    .dataframe tbody tr th {\n",
       "        vertical-align: top;\n",
       "    }\n",
       "\n",
       "    .dataframe thead th {\n",
       "        text-align: right;\n",
       "    }\n",
       "</style>\n",
       "<table border=\"1\" class=\"dataframe\">\n",
       "  <thead>\n",
       "    <tr style=\"text-align: right;\">\n",
       "      <th></th>\n",
       "      <th>pincode</th>\n",
       "      <th>districtname</th>\n",
       "      <th>statename</th>\n",
       "      <th>serviceable</th>\n",
       "      <th>cityname</th>\n",
       "    </tr>\n",
       "  </thead>\n",
       "  <tbody>\n",
       "    <tr>\n",
       "      <th>0</th>\n",
       "      <td>110001</td>\n",
       "      <td>Central Delhi</td>\n",
       "      <td>DELHI</td>\n",
       "      <td>1</td>\n",
       "      <td>Delhi</td>\n",
       "    </tr>\n",
       "    <tr>\n",
       "      <th>1</th>\n",
       "      <td>110002</td>\n",
       "      <td>Central Delhi</td>\n",
       "      <td>DELHI</td>\n",
       "      <td>1</td>\n",
       "      <td>Delhi</td>\n",
       "    </tr>\n",
       "    <tr>\n",
       "      <th>2</th>\n",
       "      <td>110003</td>\n",
       "      <td>Central Delhi</td>\n",
       "      <td>DELHI</td>\n",
       "      <td>1</td>\n",
       "      <td>Delhi</td>\n",
       "    </tr>\n",
       "    <tr>\n",
       "      <th>3</th>\n",
       "      <td>110004</td>\n",
       "      <td>Central Delhi</td>\n",
       "      <td>DELHI</td>\n",
       "      <td>1</td>\n",
       "      <td>Delhi</td>\n",
       "    </tr>\n",
       "    <tr>\n",
       "      <th>4</th>\n",
       "      <td>110005</td>\n",
       "      <td>Central Delhi</td>\n",
       "      <td>DELHI</td>\n",
       "      <td>1</td>\n",
       "      <td>Delhi</td>\n",
       "    </tr>\n",
       "  </tbody>\n",
       "</table>\n",
       "</div>"
      ],
      "text/plain": [
       "   pincode   districtname statename  serviceable cityname\n",
       "0   110001  Central Delhi     DELHI            1    Delhi\n",
       "1   110002  Central Delhi     DELHI            1    Delhi\n",
       "2   110003  Central Delhi     DELHI            1    Delhi\n",
       "3   110004  Central Delhi     DELHI            1    Delhi\n",
       "4   110005  Central Delhi     DELHI            1    Delhi"
      ]
     },
     "execution_count": 24,
     "metadata": {},
     "output_type": "execute_result"
    }
   ],
   "source": [
    "data_2.head()"
   ]
  },
  {
   "cell_type": "code",
   "execution_count": 25,
   "metadata": {},
   "outputs": [],
   "source": [
    "final_1= data_2.merge(data, on='pincode')"
   ]
  },
  {
   "cell_type": "code",
   "execution_count": 20,
   "metadata": {},
   "outputs": [],
   "source": [
    "final_2 = data.merge(data_2, on='pincode')"
   ]
  },
  {
   "cell_type": "code",
   "execution_count": 32,
   "metadata": {},
   "outputs": [],
   "source": [
    "data_4 = pd.read_csv('/home/prashant/Downloads/pincode/pin_codes_2.csv')"
   ]
  },
  {
   "cell_type": "code",
   "execution_count": null,
   "metadata": {},
   "outputs": [],
   "source": []
  },
  {
   "cell_type": "code",
   "execution_count": 21,
   "metadata": {},
   "outputs": [],
   "source": [
    "final_2.to_csv('/home/prashant/Downloads/pincode/fina_2.csv')"
   ]
  },
  {
   "cell_type": "code",
   "execution_count": 26,
   "metadata": {},
   "outputs": [],
   "source": [
    "final_1.to_csv('/home/prashant/Downloads/pincode/final.csv')"
   ]
  },
  {
   "cell_type": "code",
   "execution_count": 27,
   "metadata": {},
   "outputs": [],
   "source": [
    "data_3 = pd.read_csv('/home/prashant/Downloads/pincode/pin_codes_3.csv')"
   ]
  },
  {
   "cell_type": "code",
   "execution_count": 28,
   "metadata": {},
   "outputs": [],
   "source": [
    "all_pincode_city = final_1.merge(data_3, on='pincode')"
   ]
  },
  {
   "cell_type": "code",
   "execution_count": 31,
   "metadata": {},
   "outputs": [],
   "source": [
    "all_pincode_city.to_csv('/home/prashant/Downloads/pincode/all_pincode_city.csv')"
   ]
  },
  {
   "cell_type": "code",
   "execution_count": 4,
   "metadata": {},
   "outputs": [
    {
     "data": {
      "text/plain": [
       "(17917, 4)"
      ]
     },
     "execution_count": 4,
     "metadata": {},
     "output_type": "execute_result"
    }
   ],
   "source": [
    "nonserviceable = data[data['serviceable'] == 0]\n",
    "nonserviceable.head()\n",
    "nonserviceable.shape"
   ]
  },
  {
   "cell_type": "code",
   "execution_count": 5,
   "metadata": {},
   "outputs": [],
   "source": [
    "districts = data['districtname'].unique()"
   ]
  },
  {
   "cell_type": "code",
   "execution_count": 6,
   "metadata": {},
   "outputs": [
    {
     "data": {
      "text/plain": [
       "array(['Central Delhi', 'North Delhi', 'North West Delhi',\n",
       "       'South West Delhi', 'South Delhi', 'West Delhi', 'East Delhi',\n",
       "       'North East Delhi', 'New Delhi', 'Gurgaon', 'Faridabad',\n",
       "       'Mahendragarh', 'Rewari', 'Rohtak', 'Jhajjar', 'Hisar',\n",
       "       'Fatehabad', 'Sirsa', 'Jind', 'Bhiwani', 'Sonipat', 'Karnal',\n",
       "       'Panipat', 'Ambala', 'Yamuna Nagar', 'Panchkula', 'Kaithal',\n",
       "       'Kurukshetra', 'Rupnagar', 'Ropar', 'Mohali', 'Chandigarh',\n",
       "       'Patiala', 'Fatehgarh Sahib', 'Ludhiana', 'Moga', 'Firozpur',\n",
       "       'Amritsar', 'Tarn Taran', 'Gurdaspur', 'Jalandhar', 'Hoshiarpur',\n",
       "       'Kapurthala', 'Nawanshahr', 'Sangrur', 'Barnala', 'Bathinda',\n",
       "       'Faridkot', 'Muktsar', 'Mansa', 'Fazilka', 'Shimla', 'Solan',\n",
       "       'Kullu', 'Kinnaur', 'Lahul & Spiti', 'Sirmaur', 'Bilaspur (HP)',\n",
       "       'Una', 'Hamirpur(HP)', 'Mandi', 'Kangra', 'Chamba', 'Jammu',\n",
       "       'Udhampur', 'Doda', 'Kathua', 'Poonch', 'Rajauri', 'Reasi',\n",
       "       'Srinagar', 'Budgam', 'Ananthnag', 'Pulwama', 'Kulgam',\n",
       "       'Baramulla', 'Kupwara', 'Bandipur', 'Leh', 'Kargil', 'Ghaziabad',\n",
       "       'Gautam Buddha Nagar', 'Aligarh', 'Bulandshahr', 'Hathras',\n",
       "       'Mainpuri', 'Etawah', 'Auraiya', 'Etah', 'Kanpur Dehat',\n",
       "       'Kanpur Nagar', 'Farrukhabad', 'Kannauj', 'Unnao', 'Banda',\n",
       "       'Chitrakoot', 'Hamirpur', 'Mahoba', 'Allahabad', 'Kaushambi',\n",
       "       'Fatehpur', 'Varanasi', 'Chandauli', 'Sant Ravidas Nagar', 'Mau',\n",
       "       'Ballia', 'Jaunpur', 'Sultanpur', 'Azamgarh', 'Faizabad',\n",
       "       'Ambedkar Nagar', 'Barabanki', 'Lucknow', 'Raebareli',\n",
       "       'Pratapgarh', 'Mirzapur', 'Sonbhadra', 'Ghazipur', 'Hardoi',\n",
       "       'Shahjahanpur', 'Budaun', 'Bareilly', 'Moradabad',\n",
       "       'Jyotiba Phule Nagar', 'Rampur', 'Udham Singh Nagar', 'Almora',\n",
       "       'Meerut', 'Pauri Garhwal', 'Rudraprayag', 'Chamoli', 'Bijnor',\n",
       "       'Saharanpur', 'Haridwar', 'Dehradun', 'Muzaffarnagar',\n",
       "       'Tehri Garhwal', 'Uttarkashi', 'Bagpat', 'Sitapur', 'Kheri',\n",
       "       'Pilibhit', 'Champawat', 'Nainital', 'Pithoragarh', 'Bageshwar',\n",
       "       'Gonda', 'Balrampur', 'Bahraich', 'Shrawasti', 'Basti',\n",
       "       'Sant Kabir Nagar', 'Siddharthnagar', 'Gorakhpur', 'Maharajganj',\n",
       "       'Deoria', 'Kushinagar', 'Mathura', 'Agra', 'Firozabad', 'Jhansi',\n",
       "       'Lalitpur', 'Jalaun', 'Alwar', 'Jaipur', 'Dausa', 'Tonk', 'Ajmer',\n",
       "       'Nagaur', 'Rajsamand', 'Pali', 'Sirohi', 'Udaipur', 'Jalor',\n",
       "       'Bhilwara', 'Chittorgarh', 'Dungarpur', 'Bharatpur', 'Karauli',\n",
       "       'Sawai Madhopur', 'Bundi', 'Kota', 'Baran', 'Jhalawar', 'Banswara',\n",
       "       'Dholpur', 'Churu', 'Sikar', 'Jhujhunu', 'Bikaner', 'Ganganagar',\n",
       "       'Hanumangarh', 'Jodhpur', 'Jaisalmer', 'Barmer', 'Rajkot',\n",
       "       'Bhavnagar', 'Jamnagar', 'Porbandar', 'Junagadh', 'Diu', 'Amreli',\n",
       "       'Surendra Nagar', 'Kachchh', 'Ahmedabad', 'Gandhi Nagar',\n",
       "       'Mahesana', 'Sabarkantha', 'Patan', 'Banaskantha', 'Kheda',\n",
       "       'Anand', 'Panch Mahals', 'Vadodara', 'Dahod', 'Narmada', 'Bharuch',\n",
       "       'Surat', 'Tapi', 'The Dangs', 'Valsad', 'Navsari',\n",
       "       'Dadra & Nagar Haveli', 'Daman', 'Mumbai', 'Thane', 'Raigarh(MH)',\n",
       "       'North Goa', 'South Goa', 'Pune', 'Satara', 'Solapur',\n",
       "       'Ahmed Nagar', 'Beed', 'Osmanabad', 'Latur', 'Kolhapur',\n",
       "       'Ratnagiri', 'Sangli', 'Sindhudurg', 'Nashik', 'Aurangabad',\n",
       "       'Dhule', 'Jalgaon', 'Nandurbar', 'Jalna', 'Parbhani', 'Hingoli',\n",
       "       'Nanded', 'Nagpur', 'Chandrapur', 'Gadchiroli', 'Gondia',\n",
       "       'Bhandara', 'Wardha', 'Buldhana', 'Akola', 'Washim', 'Amravati',\n",
       "       'Yavatmal', 'East Nimar', 'Khandwa', 'Burhanpur', 'West Nimar',\n",
       "       'Khargone', 'Barwani', 'Indore', 'Dhar', 'Dewas', 'Ujjain',\n",
       "       'Ratlam', 'Jhabua', 'Alirajpur', 'Mandsaur', 'Neemuch', 'Betul',\n",
       "       'Hoshangabad', 'Bhopal', 'Raisen', 'Vidisha', 'Shajapur',\n",
       "       'Rajgarh', 'Sehore', 'Sagar', 'Damoh', 'Chhatarpur', 'Tikamgarh',\n",
       "       'Guna', 'Ashok Nagar', 'Shivpuri', 'Gwalior', 'Datia', 'Morena',\n",
       "       'Sheopur', 'Bhind', 'Chhindwara', 'Seoni', 'Balaghat', 'Mandla',\n",
       "       'Dindori', 'Jabalpur', 'Katni', 'Umaria', 'Shahdol', 'Anuppur',\n",
       "       'Satna', 'Rewa', 'Sidhi', 'Singrauli', 'Narsinghpur', 'Panna',\n",
       "       'Durg', 'Rajnandgaon', 'Kawardha', 'Kabirdham', 'Raipur',\n",
       "       'Mahasamund', 'Dhamtari', 'Gariaband', 'Bastar', 'Dantewada',\n",
       "       'Kanker', 'Bijapur(CGH)', 'Narayanpur', 'Bilaspur(CGH)', 'Korba',\n",
       "       'Bilaspur', 'Janjgir-champa', 'Raigarh', 'Jashpur', 'Surguja',\n",
       "       'Koriya', 'Hyderabad', 'K.V.Rangareddy', 'Medak', 'Nizamabad',\n",
       "       'Adilabad', 'Karim Nagar', 'Warangal', 'Mahabubabad', 'Khammam',\n",
       "       'East Godavari', 'Nalgonda', 'Mahabub Nagar', 'Ananthapur',\n",
       "       'Cuddapah', 'Chittoor', 'Kurnool', 'Krishna', 'Guntur', 'Prakasam',\n",
       "       'Nellore', 'Visakhapatnam', 'Srikakulam', 'West Godavari',\n",
       "       'Vizianagaram', 'Bengaluru', 'Bangalore Rural', 'Tumakuru',\n",
       "       'Chikkaballapur', 'Kolar', 'Ramanagar', 'Mysuru', 'Chamrajnagar',\n",
       "       'Kodagu', 'Mandya', 'Hassan', 'Udupi', 'Dakshina Kannada',\n",
       "       'Davangere', 'Chikkamagaluru', 'Shivamogga', 'Chickmagalur',\n",
       "       'Chitradurga', 'Dharwad', 'Haveri', 'Uttara Kannada', 'Gadag',\n",
       "       'Ballari', 'Koppal', 'Raichur', 'Kalaburagi', 'Yadgir', 'Bidar',\n",
       "       'Vijayapura', 'Bagalkot', 'Belagavi', 'Chennai', 'Kanchipuram',\n",
       "       'Tiruvallur', 'Villupuram', 'Tiruvannamalai', 'Pondicherry',\n",
       "       'Cuddalore', 'Ariyalur', 'Nagapattinam', 'Tiruvarur', 'Karaikal',\n",
       "       'Thanjavur', 'Tiruchirappalli', 'Pudukkottai', 'Perambalur',\n",
       "       'Karur', 'Ramanathapuram', 'Dindigul', 'Madurai', 'Theni',\n",
       "       'Virudhunagar', 'Tuticorin', 'Tirunelveli', 'Kanyakumari',\n",
       "       'Sivaganga', 'Vellore', 'Krishnagiri', 'Dharmapuri', 'Salem',\n",
       "       'Namakkal', 'Erode', 'Coimbatore', 'Nilgiris', 'Kannur', 'Wayanad',\n",
       "       'Kasargod', 'Kozhikode', 'Malappuram', 'Palakkad', 'Thrissur',\n",
       "       'Ernakulam', 'Lakshadweep', 'Idukki', 'Kottayam', 'Alappuzha',\n",
       "       'Pathanamthitta', 'Kollam', 'Thiruvananthapuram', 'Kolkata',\n",
       "       'South 24 Parganas', 'North 24 Parganas', 'Howrah', 'Hooghly',\n",
       "       'Bardhaman', 'Bankura', 'West Midnapore', 'East Midnapore',\n",
       "       'North Tripura', 'Purulia', 'Birbhum', 'Malda', 'South Dinajpur',\n",
       "       'North Dinajpur', 'Darjiling', 'Jalpaiguri', 'Kalimpong',\n",
       "       'Cooch Behar', 'Alipurduar', 'East Sikkim', 'West Sikkim',\n",
       "       'North Sikkim', 'South Sikkim', 'Nadia', 'Murshidabad', 'Shimoga',\n",
       "       'South Andaman', 'North And Middle Andaman', 'Nicobar', 'Khorda',\n",
       "       'Puri', 'Nayagarh', 'Cuttack', 'Jajapur', 'Jagatsinghapur',\n",
       "       'Kendrapara', 'Baleswar', 'Bhadrak', 'Mayurbhanj', 'Kendujhar',\n",
       "       'Dhenkanal', 'Angul', 'Ganjam', 'Gajapati', 'Kandhamal', 'Boudh',\n",
       "       'Koraput', 'Malkangiri', 'Nabarangapur', 'Rayagada', 'Kalahandi',\n",
       "       'Nuapada', 'Balangir', 'Sonapur', 'Sambalpur', 'Bargarh',\n",
       "       'Debagarh', 'Jharsuguda', 'Sundergarh', 'Kamrup', 'Nalbari',\n",
       "       'Barpeta', 'Nagaon', 'Marigaon', 'Karbi Anglong', 'Goalpara',\n",
       "       'Dhubri', 'Kokrajhar', 'Bongaigaon', 'Sonitpur', 'Darrang',\n",
       "       'Lakhimpur', 'Jorhat', 'Golaghat', 'Sibsagar', 'Dibrugarh',\n",
       "       'Tinsukia', 'Dhemaji', 'Cachar', 'Hailakandi', 'Karimganj',\n",
       "       'North Cachar Hills', 'West Kameng', 'East Kameng', 'Tawang',\n",
       "       'West Siang', 'Upper Siang', 'East Siang', 'Papum Pare',\n",
       "       'Lower Subansiri', 'Kurung Kumey', 'Upper Subansiri', 'Lohit',\n",
       "       'Changlang', 'Dibang Valley', 'Lower Dibang Valley', 'Tirap',\n",
       "       'East Khasi Hills', 'Ri Bhoi', 'West Khasi Hills', 'Jaintia Hills',\n",
       "       'West Garo Hills', 'East Garo Hills', 'South Garo Hills',\n",
       "       'Imphal West', 'Imphal East', 'Churachandpur', 'Senapati',\n",
       "       'Bishnupur', 'Thoubal', 'Chandel', 'Tamenglong', 'Ukhrul',\n",
       "       'Aizawl', 'Kolasib', 'Serchhip', 'Champhai', 'Mammit', 'Lunglei',\n",
       "       'Lawngtlai', 'Kohima', 'Wokha', 'Peren', 'Phek', 'Dimapur',\n",
       "       'Mokokchung', 'Mon', 'Zunhebotto', 'Tuensang', 'Longleng',\n",
       "       'West Tripura', 'South Tripura', 'Gomti', 'Dhalai', 'Patna',\n",
       "       'Nalanda', 'Buxar', 'Kaimur (Bhabua)', 'Bhojpur', 'Rohtas',\n",
       "       'Nawada', 'Arwal', 'Gaya', 'Jehanabad', 'Sheikhpura', 'Lakhisarai',\n",
       "       'Munger', 'Jamui', 'Bhagalpur', 'Banka', 'Sahibganj', 'Dumka',\n",
       "       'Pakur', 'Deoghar', 'Godda', 'Bokaro', 'Jamtara', 'Giridh',\n",
       "       'Palamau', 'Latehar', 'Garhwa', 'Aurangabad(BH)', 'Aurangabad Bh',\n",
       "       'Ramgarh', 'Chatra', 'Koderma', 'Hazaribag', 'Dhanbad', 'Ranchi',\n",
       "       'East Singhbhum', 'Seraikela-kharsawan', 'West Singhbhum',\n",
       "       'Simdega', 'Gumla', 'Lohardaga', 'Saran', 'Siwan', 'Gopalganj',\n",
       "       'Muzaffarpur', 'Vaishali', 'Sitamarhi', 'Sheohar',\n",
       "       'West Champaran', 'East Champaran', 'Darbhanga', 'Madhubani',\n",
       "       'Supaul', 'Samastipur', 'Begusarai', 'Khagaria', 'Madhepura',\n",
       "       'Saharsa', 'Katihar', 'Purnia', 'Araria', 'Kishanganj'],\n",
       "      dtype=object)"
      ]
     },
     "execution_count": 6,
     "metadata": {},
     "output_type": "execute_result"
    }
   ],
   "source": [
    "districts"
   ]
  },
  {
   "cell_type": "code",
   "execution_count": null,
   "metadata": {},
   "outputs": [],
   "source": []
  }
 ],
 "metadata": {
  "kernelspec": {
   "display_name": "Python 3",
   "language": "python",
   "name": "python3"
  },
  "language_info": {
   "codemirror_mode": {
    "name": "ipython",
    "version": 3
   },
   "file_extension": ".py",
   "mimetype": "text/x-python",
   "name": "python",
   "nbconvert_exporter": "python",
   "pygments_lexer": "ipython3",
   "version": "3.6.4"
  }
 },
 "nbformat": 4,
 "nbformat_minor": 2
}
