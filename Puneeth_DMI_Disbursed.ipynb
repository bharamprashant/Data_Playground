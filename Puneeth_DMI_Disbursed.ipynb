{
 "cells": [
  {
   "cell_type": "code",
   "execution_count": 1,
   "metadata": {},
   "outputs": [],
   "source": [
    "import pandas as pd\n",
    "import time\n",
    "import datetime"
   ]
  },
  {
   "cell_type": "code",
   "execution_count": 12,
   "metadata": {},
   "outputs": [],
   "source": [
    "All_data = pd.read_csv(\"/home/prashant/Downloads/Puneeth_GM/DMIcases_UC.csv\")"
   ]
  },
  {
   "cell_type": "code",
   "execution_count": 13,
   "metadata": {},
   "outputs": [
    {
     "data": {
      "text/html": [
       "<div>\n",
       "<style scoped>\n",
       "    .dataframe tbody tr th:only-of-type {\n",
       "        vertical-align: middle;\n",
       "    }\n",
       "\n",
       "    .dataframe tbody tr th {\n",
       "        vertical-align: top;\n",
       "    }\n",
       "\n",
       "    .dataframe thead th {\n",
       "        text-align: right;\n",
       "    }\n",
       "</style>\n",
       "<table border=\"1\" class=\"dataframe\">\n",
       "  <thead>\n",
       "    <tr style=\"text-align: right;\">\n",
       "      <th></th>\n",
       "      <th>Application ID</th>\n",
       "      <th>Opportunity Name</th>\n",
       "      <th>Application Id</th>\n",
       "      <th>Account Name</th>\n",
       "      <th>Sanction Amount</th>\n",
       "      <th>Net Amount to be Disbursed</th>\n",
       "      <th>Beneficiary Name</th>\n",
       "      <th>Beneficiary Acc No</th>\n",
       "      <th>IFSC Code</th>\n",
       "      <th>UTR Number</th>\n",
       "      <th>Close Date</th>\n",
       "      <th>EMI date</th>\n",
       "    </tr>\n",
       "  </thead>\n",
       "  <tbody>\n",
       "    <tr>\n",
       "      <th>0</th>\n",
       "      <td>43812</td>\n",
       "      <td>DMI0000845552</td>\n",
       "      <td>SL43812_1532676985</td>\n",
       "      <td>Nanda Tanaji Patil</td>\n",
       "      <td>40000</td>\n",
       "      <td>34500</td>\n",
       "      <td>URBAN CLAP TECHNOLOGIES INDIA PVT LTD</td>\n",
       "      <td>7105006973</td>\n",
       "      <td>ICIC0000071</td>\n",
       "      <td>KKBK182123085655</td>\n",
       "      <td>7/31/2018</td>\n",
       "      <td>9/5/2018</td>\n",
       "    </tr>\n",
       "    <tr>\n",
       "      <th>1</th>\n",
       "      <td>52352</td>\n",
       "      <td>DMI0000848461</td>\n",
       "      <td>SL52352_1531399039</td>\n",
       "      <td>Ravi LNU</td>\n",
       "      <td>24800</td>\n",
       "      <td>21000</td>\n",
       "      <td>URBANCLAP TECHNOLOGIES INDIA PVT LTD</td>\n",
       "      <td>7105006973</td>\n",
       "      <td>ICIC0000071</td>\n",
       "      <td>KKBK182123085658</td>\n",
       "      <td>7/31/2018</td>\n",
       "      <td>9/5/2018</td>\n",
       "    </tr>\n",
       "    <tr>\n",
       "      <th>2</th>\n",
       "      <td>55914</td>\n",
       "      <td>DMI0000848284</td>\n",
       "      <td>SL55914_1531405226</td>\n",
       "      <td>B Thanmawia</td>\n",
       "      <td>24800</td>\n",
       "      <td>21000</td>\n",
       "      <td>URBANCLAP TECHNOLOGIES INDIA PVT LTD</td>\n",
       "      <td>7105006973</td>\n",
       "      <td>ICIC0000071</td>\n",
       "      <td>KKBK182123085652</td>\n",
       "      <td>7/31/2018</td>\n",
       "      <td>9/5/2018</td>\n",
       "    </tr>\n",
       "    <tr>\n",
       "      <th>3</th>\n",
       "      <td>56360</td>\n",
       "      <td>DMI0000835681</td>\n",
       "      <td>SL56360_1531482996</td>\n",
       "      <td>ABHILASH KISHOR</td>\n",
       "      <td>24800</td>\n",
       "      <td>21000</td>\n",
       "      <td>URBANCLAP TECHNOLOGIES INDIA PVT LTD</td>\n",
       "      <td>7105006973</td>\n",
       "      <td>ICIC0000071</td>\n",
       "      <td>KKBK182123085697</td>\n",
       "      <td>7/31/2018</td>\n",
       "      <td>9/5/2018</td>\n",
       "    </tr>\n",
       "    <tr>\n",
       "      <th>4</th>\n",
       "      <td>56307</td>\n",
       "      <td>DMI0000848385</td>\n",
       "      <td>SL56307_1531734755</td>\n",
       "      <td>Narjis LNU</td>\n",
       "      <td>40000</td>\n",
       "      <td>34500</td>\n",
       "      <td>URBANCLAP TECHNOLOGIES INDIA PVT LTD</td>\n",
       "      <td>7105006973</td>\n",
       "      <td>ICIC0000071</td>\n",
       "      <td>KKBK182123085627</td>\n",
       "      <td>7/31/2018</td>\n",
       "      <td>9/5/2018</td>\n",
       "    </tr>\n",
       "  </tbody>\n",
       "</table>\n",
       "</div>"
      ],
      "text/plain": [
       "   Application ID Opportunity Name      Application Id        Account Name  \\\n",
       "0           43812    DMI0000845552  SL43812_1532676985  Nanda Tanaji Patil   \n",
       "1           52352    DMI0000848461  SL52352_1531399039            Ravi LNU   \n",
       "2           55914    DMI0000848284  SL55914_1531405226         B Thanmawia   \n",
       "3           56360    DMI0000835681  SL56360_1531482996     ABHILASH KISHOR   \n",
       "4           56307    DMI0000848385  SL56307_1531734755          Narjis LNU   \n",
       "\n",
       "   Sanction Amount  Net Amount to be Disbursed  \\\n",
       "0            40000                       34500   \n",
       "1            24800                       21000   \n",
       "2            24800                       21000   \n",
       "3            24800                       21000   \n",
       "4            40000                       34500   \n",
       "\n",
       "                        Beneficiary Name  Beneficiary Acc No    IFSC Code  \\\n",
       "0  URBAN CLAP TECHNOLOGIES INDIA PVT LTD          7105006973  ICIC0000071   \n",
       "1   URBANCLAP TECHNOLOGIES INDIA PVT LTD          7105006973  ICIC0000071   \n",
       "2   URBANCLAP TECHNOLOGIES INDIA PVT LTD          7105006973  ICIC0000071   \n",
       "3   URBANCLAP TECHNOLOGIES INDIA PVT LTD          7105006973  ICIC0000071   \n",
       "4   URBANCLAP TECHNOLOGIES INDIA PVT LTD          7105006973  ICIC0000071   \n",
       "\n",
       "         UTR Number  Close Date  EMI date  \n",
       "0  KKBK182123085655   7/31/2018  9/5/2018  \n",
       "1  KKBK182123085658   7/31/2018  9/5/2018  \n",
       "2  KKBK182123085652   7/31/2018  9/5/2018  \n",
       "3  KKBK182123085697   7/31/2018  9/5/2018  \n",
       "4  KKBK182123085627   7/31/2018  9/5/2018  "
      ]
     },
     "execution_count": 13,
     "metadata": {},
     "output_type": "execute_result"
    }
   ],
   "source": [
    "All_data.head()"
   ]
  },
  {
   "cell_type": "code",
   "execution_count": 14,
   "metadata": {},
   "outputs": [
    {
     "data": {
      "text/plain": [
       "Index(['Application ID', 'Opportunity Name', 'Application Id', ' Account Name',\n",
       "       'Sanction Amount', 'Net Amount to be Disbursed', 'Beneficiary Name',\n",
       "       'Beneficiary Acc No', ' IFSC Code', 'UTR Number', ' Close Date',\n",
       "       'EMI date'],\n",
       "      dtype='object')"
      ]
     },
     "execution_count": 14,
     "metadata": {},
     "output_type": "execute_result"
    }
   ],
   "source": [
    "All_data.columns"
   ]
  },
  {
   "cell_type": "code",
   "execution_count": 28,
   "metadata": {},
   "outputs": [],
   "source": [
    "All_data.columns = ['Application_ID', 'Opportunity_Name', 'Application_Id', ' Account_Name',\n",
    "       'Sanction_Amount', 'Net_Amount_TBD', 'Beneficiary_Name',\n",
    "       'Beneficiary_Acc_No', ' IFSC_Code', 'UTR_Number', 'Close_Date',\n",
    "       'EMI_date']"
   ]
  },
  {
   "cell_type": "code",
   "execution_count": 29,
   "metadata": {},
   "outputs": [
    {
     "data": {
      "text/html": [
       "<div>\n",
       "<style scoped>\n",
       "    .dataframe tbody tr th:only-of-type {\n",
       "        vertical-align: middle;\n",
       "    }\n",
       "\n",
       "    .dataframe tbody tr th {\n",
       "        vertical-align: top;\n",
       "    }\n",
       "\n",
       "    .dataframe thead th {\n",
       "        text-align: right;\n",
       "    }\n",
       "</style>\n",
       "<table border=\"1\" class=\"dataframe\">\n",
       "  <thead>\n",
       "    <tr style=\"text-align: right;\">\n",
       "      <th></th>\n",
       "      <th>Application_ID</th>\n",
       "      <th>Opportunity_Name</th>\n",
       "      <th>Application_Id</th>\n",
       "      <th>Account_Name</th>\n",
       "      <th>Sanction_Amount</th>\n",
       "      <th>Net_Amount_TBD</th>\n",
       "      <th>Beneficiary_Name</th>\n",
       "      <th>Beneficiary_Acc_No</th>\n",
       "      <th>IFSC_Code</th>\n",
       "      <th>UTR_Number</th>\n",
       "      <th>Close_Date</th>\n",
       "      <th>EMI_date</th>\n",
       "    </tr>\n",
       "  </thead>\n",
       "  <tbody>\n",
       "    <tr>\n",
       "      <th>0</th>\n",
       "      <td>43812</td>\n",
       "      <td>DMI0000845552</td>\n",
       "      <td>SL43812_1532676985</td>\n",
       "      <td>Nanda Tanaji Patil</td>\n",
       "      <td>40000</td>\n",
       "      <td>34500</td>\n",
       "      <td>URBAN CLAP TECHNOLOGIES INDIA PVT LTD</td>\n",
       "      <td>7105006973</td>\n",
       "      <td>ICIC0000071</td>\n",
       "      <td>KKBK182123085655</td>\n",
       "      <td>7/31/2018</td>\n",
       "      <td>9/5/2018</td>\n",
       "    </tr>\n",
       "    <tr>\n",
       "      <th>1</th>\n",
       "      <td>52352</td>\n",
       "      <td>DMI0000848461</td>\n",
       "      <td>SL52352_1531399039</td>\n",
       "      <td>Ravi LNU</td>\n",
       "      <td>24800</td>\n",
       "      <td>21000</td>\n",
       "      <td>URBANCLAP TECHNOLOGIES INDIA PVT LTD</td>\n",
       "      <td>7105006973</td>\n",
       "      <td>ICIC0000071</td>\n",
       "      <td>KKBK182123085658</td>\n",
       "      <td>7/31/2018</td>\n",
       "      <td>9/5/2018</td>\n",
       "    </tr>\n",
       "    <tr>\n",
       "      <th>2</th>\n",
       "      <td>55914</td>\n",
       "      <td>DMI0000848284</td>\n",
       "      <td>SL55914_1531405226</td>\n",
       "      <td>B Thanmawia</td>\n",
       "      <td>24800</td>\n",
       "      <td>21000</td>\n",
       "      <td>URBANCLAP TECHNOLOGIES INDIA PVT LTD</td>\n",
       "      <td>7105006973</td>\n",
       "      <td>ICIC0000071</td>\n",
       "      <td>KKBK182123085652</td>\n",
       "      <td>7/31/2018</td>\n",
       "      <td>9/5/2018</td>\n",
       "    </tr>\n",
       "    <tr>\n",
       "      <th>3</th>\n",
       "      <td>56360</td>\n",
       "      <td>DMI0000835681</td>\n",
       "      <td>SL56360_1531482996</td>\n",
       "      <td>ABHILASH KISHOR</td>\n",
       "      <td>24800</td>\n",
       "      <td>21000</td>\n",
       "      <td>URBANCLAP TECHNOLOGIES INDIA PVT LTD</td>\n",
       "      <td>7105006973</td>\n",
       "      <td>ICIC0000071</td>\n",
       "      <td>KKBK182123085697</td>\n",
       "      <td>7/31/2018</td>\n",
       "      <td>9/5/2018</td>\n",
       "    </tr>\n",
       "    <tr>\n",
       "      <th>4</th>\n",
       "      <td>56307</td>\n",
       "      <td>DMI0000848385</td>\n",
       "      <td>SL56307_1531734755</td>\n",
       "      <td>Narjis LNU</td>\n",
       "      <td>40000</td>\n",
       "      <td>34500</td>\n",
       "      <td>URBANCLAP TECHNOLOGIES INDIA PVT LTD</td>\n",
       "      <td>7105006973</td>\n",
       "      <td>ICIC0000071</td>\n",
       "      <td>KKBK182123085627</td>\n",
       "      <td>7/31/2018</td>\n",
       "      <td>9/5/2018</td>\n",
       "    </tr>\n",
       "  </tbody>\n",
       "</table>\n",
       "</div>"
      ],
      "text/plain": [
       "   Application_ID Opportunity_Name      Application_Id        Account_Name  \\\n",
       "0           43812    DMI0000845552  SL43812_1532676985  Nanda Tanaji Patil   \n",
       "1           52352    DMI0000848461  SL52352_1531399039            Ravi LNU   \n",
       "2           55914    DMI0000848284  SL55914_1531405226         B Thanmawia   \n",
       "3           56360    DMI0000835681  SL56360_1531482996     ABHILASH KISHOR   \n",
       "4           56307    DMI0000848385  SL56307_1531734755          Narjis LNU   \n",
       "\n",
       "   Sanction_Amount  Net_Amount_TBD                       Beneficiary_Name  \\\n",
       "0            40000           34500  URBAN CLAP TECHNOLOGIES INDIA PVT LTD   \n",
       "1            24800           21000   URBANCLAP TECHNOLOGIES INDIA PVT LTD   \n",
       "2            24800           21000   URBANCLAP TECHNOLOGIES INDIA PVT LTD   \n",
       "3            24800           21000   URBANCLAP TECHNOLOGIES INDIA PVT LTD   \n",
       "4            40000           34500   URBANCLAP TECHNOLOGIES INDIA PVT LTD   \n",
       "\n",
       "   Beneficiary_Acc_No    IFSC_Code        UTR_Number Close_Date  EMI_date  \n",
       "0          7105006973  ICIC0000071  KKBK182123085655  7/31/2018  9/5/2018  \n",
       "1          7105006973  ICIC0000071  KKBK182123085658  7/31/2018  9/5/2018  \n",
       "2          7105006973  ICIC0000071  KKBK182123085652  7/31/2018  9/5/2018  \n",
       "3          7105006973  ICIC0000071  KKBK182123085697  7/31/2018  9/5/2018  \n",
       "4          7105006973  ICIC0000071  KKBK182123085627  7/31/2018  9/5/2018  "
      ]
     },
     "execution_count": 29,
     "metadata": {},
     "output_type": "execute_result"
    }
   ],
   "source": [
    "All_data.head()"
   ]
  },
  {
   "cell_type": "code",
   "execution_count": 8,
   "metadata": {},
   "outputs": [],
   "source": [
    "# consolidated_data  = pd.read_csv(\"/home/prashant/Downloads/Puneeth_GM/Condolidated_DMI_cases.csv\")"
   ]
  },
  {
   "cell_type": "code",
   "execution_count": 9,
   "metadata": {},
   "outputs": [],
   "source": [
    "# len(consolidated_data)"
   ]
  },
  {
   "cell_type": "code",
   "execution_count": 10,
   "metadata": {},
   "outputs": [],
   "source": [
    "# consolidated_data.columns = ['loandetail_applicationid', 'loandetail_tenuremonths',\n",
    "#        'loandetail_lenderapplicationid', 'loandetail_amount', 'Close_date',\n",
    "#        'EMI_date']"
   ]
  },
  {
   "cell_type": "code",
   "execution_count": 11,
   "metadata": {},
   "outputs": [],
   "source": [
    "# consolidated_data.head()"
   ]
  },
  {
   "cell_type": "code",
   "execution_count": 7,
   "metadata": {},
   "outputs": [],
   "source": [
    "# All_data_revised = consolidated_data.set_index('loandetail_lenderapplicationid').join(All_data.set_index('Application_Id'))"
   ]
  },
  {
   "cell_type": "code",
   "execution_count": 8,
   "metadata": {},
   "outputs": [],
   "source": [
    "# All_data_revised.to_csv(\"/home/prashant/Downloads/Puneeth_GM/All_data_revised.csv\")"
   ]
  },
  {
   "cell_type": "code",
   "execution_count": 9,
   "metadata": {
    "scrolled": true
   },
   "outputs": [],
   "source": [
    "# All_data_revised.head()"
   ]
  },
  {
   "cell_type": "code",
   "execution_count": 13,
   "metadata": {},
   "outputs": [],
   "source": [
    "# Open_market_data = pd.read_csv(\"/home/prashant/Downloads/Puneeth_GM/All_data_revised_drive_open.csv\")"
   ]
  },
  {
   "cell_type": "code",
   "execution_count": 10,
   "metadata": {},
   "outputs": [],
   "source": [
    "# openM_data = pd.read_csv(\"/home/prashant/Downloads/Puneeth_GM/All_data_revised_drive_UC.csv\")"
   ]
  },
  {
   "cell_type": "code",
   "execution_count": 11,
   "metadata": {},
   "outputs": [],
   "source": [
    "# Uc_data.head()"
   ]
  },
  {
   "cell_type": "code",
   "execution_count": 17,
   "metadata": {},
   "outputs": [],
   "source": [
    "# len(Uc_data)"
   ]
  },
  {
   "cell_type": "code",
   "execution_count": 117,
   "metadata": {},
   "outputs": [],
   "source": [
    "# len(All_data_revised)"
   ]
  },
  {
   "cell_type": "code",
   "execution_count": 30,
   "metadata": {},
   "outputs": [],
   "source": [
    "Emi_calc = pd.read_csv(\"/home/prashant/Downloads/Puneeth_GM/EmiCalc_UC.csv\")"
   ]
  },
  {
   "cell_type": "code",
   "execution_count": 31,
   "metadata": {},
   "outputs": [
    {
     "data": {
      "text/html": [
       "<div>\n",
       "<style scoped>\n",
       "    .dataframe tbody tr th:only-of-type {\n",
       "        vertical-align: middle;\n",
       "    }\n",
       "\n",
       "    .dataframe tbody tr th {\n",
       "        vertical-align: top;\n",
       "    }\n",
       "\n",
       "    .dataframe thead th {\n",
       "        text-align: right;\n",
       "    }\n",
       "</style>\n",
       "<table border=\"1\" class=\"dataframe\">\n",
       "  <thead>\n",
       "    <tr style=\"text-align: right;\">\n",
       "      <th></th>\n",
       "      <th>Unnamed: 0</th>\n",
       "      <th>application_id</th>\n",
       "      <th>loan_amount</th>\n",
       "      <th>tenure</th>\n",
       "      <th>roi</th>\n",
       "      <th>emi</th>\n",
       "    </tr>\n",
       "  </thead>\n",
       "  <tbody>\n",
       "    <tr>\n",
       "      <th>0</th>\n",
       "      <td>0</td>\n",
       "      <td>43812</td>\n",
       "      <td>40000.0</td>\n",
       "      <td>4</td>\n",
       "      <td>28.0</td>\n",
       "      <td>10000.0</td>\n",
       "    </tr>\n",
       "    <tr>\n",
       "      <th>1</th>\n",
       "      <td>1</td>\n",
       "      <td>52352</td>\n",
       "      <td>24800.0</td>\n",
       "      <td>4</td>\n",
       "      <td>28.0</td>\n",
       "      <td>6200.0</td>\n",
       "    </tr>\n",
       "    <tr>\n",
       "      <th>2</th>\n",
       "      <td>2</td>\n",
       "      <td>55914</td>\n",
       "      <td>24800.0</td>\n",
       "      <td>4</td>\n",
       "      <td>28.0</td>\n",
       "      <td>6200.0</td>\n",
       "    </tr>\n",
       "    <tr>\n",
       "      <th>3</th>\n",
       "      <td>3</td>\n",
       "      <td>56360</td>\n",
       "      <td>24800.0</td>\n",
       "      <td>4</td>\n",
       "      <td>28.0</td>\n",
       "      <td>6200.0</td>\n",
       "    </tr>\n",
       "    <tr>\n",
       "      <th>4</th>\n",
       "      <td>4</td>\n",
       "      <td>56307</td>\n",
       "      <td>40000.0</td>\n",
       "      <td>4</td>\n",
       "      <td>28.0</td>\n",
       "      <td>10000.0</td>\n",
       "    </tr>\n",
       "  </tbody>\n",
       "</table>\n",
       "</div>"
      ],
      "text/plain": [
       "   Unnamed: 0  application_id  loan_amount  tenure   roi      emi\n",
       "0           0           43812      40000.0       4  28.0  10000.0\n",
       "1           1           52352      24800.0       4  28.0   6200.0\n",
       "2           2           55914      24800.0       4  28.0   6200.0\n",
       "3           3           56360      24800.0       4  28.0   6200.0\n",
       "4           4           56307      40000.0       4  28.0  10000.0"
      ]
     },
     "execution_count": 31,
     "metadata": {},
     "output_type": "execute_result"
    }
   ],
   "source": [
    "Emi_calc.head()"
   ]
  },
  {
   "cell_type": "code",
   "execution_count": 32,
   "metadata": {},
   "outputs": [],
   "source": [
    "Data_with_EMI = All_data.reset_index().set_index('Application_ID').join(Emi_calc.set_index('application_id'))"
   ]
  },
  {
   "cell_type": "code",
   "execution_count": 10,
   "metadata": {},
   "outputs": [],
   "source": [
    "# Data_with_EMI.dropna()"
   ]
  },
  {
   "cell_type": "code",
   "execution_count": 33,
   "metadata": {},
   "outputs": [
    {
     "data": {
      "text/html": [
       "<div>\n",
       "<style scoped>\n",
       "    .dataframe tbody tr th:only-of-type {\n",
       "        vertical-align: middle;\n",
       "    }\n",
       "\n",
       "    .dataframe tbody tr th {\n",
       "        vertical-align: top;\n",
       "    }\n",
       "\n",
       "    .dataframe thead th {\n",
       "        text-align: right;\n",
       "    }\n",
       "</style>\n",
       "<table border=\"1\" class=\"dataframe\">\n",
       "  <thead>\n",
       "    <tr style=\"text-align: right;\">\n",
       "      <th></th>\n",
       "      <th>index</th>\n",
       "      <th>Opportunity_Name</th>\n",
       "      <th>Application_Id</th>\n",
       "      <th>Account_Name</th>\n",
       "      <th>Sanction_Amount</th>\n",
       "      <th>Net_Amount_TBD</th>\n",
       "      <th>Beneficiary_Name</th>\n",
       "      <th>Beneficiary_Acc_No</th>\n",
       "      <th>IFSC_Code</th>\n",
       "      <th>UTR_Number</th>\n",
       "      <th>Close_Date</th>\n",
       "      <th>EMI_date</th>\n",
       "      <th>Unnamed: 0</th>\n",
       "      <th>loan_amount</th>\n",
       "      <th>tenure</th>\n",
       "      <th>roi</th>\n",
       "      <th>emi</th>\n",
       "    </tr>\n",
       "    <tr>\n",
       "      <th>Application_ID</th>\n",
       "      <th></th>\n",
       "      <th></th>\n",
       "      <th></th>\n",
       "      <th></th>\n",
       "      <th></th>\n",
       "      <th></th>\n",
       "      <th></th>\n",
       "      <th></th>\n",
       "      <th></th>\n",
       "      <th></th>\n",
       "      <th></th>\n",
       "      <th></th>\n",
       "      <th></th>\n",
       "      <th></th>\n",
       "      <th></th>\n",
       "      <th></th>\n",
       "      <th></th>\n",
       "    </tr>\n",
       "  </thead>\n",
       "  <tbody>\n",
       "    <tr>\n",
       "      <th>43812</th>\n",
       "      <td>0</td>\n",
       "      <td>DMI0000845552</td>\n",
       "      <td>SL43812_1532676985</td>\n",
       "      <td>Nanda Tanaji Patil</td>\n",
       "      <td>40000</td>\n",
       "      <td>34500</td>\n",
       "      <td>URBAN CLAP TECHNOLOGIES INDIA PVT LTD</td>\n",
       "      <td>7105006973</td>\n",
       "      <td>ICIC0000071</td>\n",
       "      <td>KKBK182123085655</td>\n",
       "      <td>7/31/2018</td>\n",
       "      <td>9/5/2018</td>\n",
       "      <td>0</td>\n",
       "      <td>40000.0</td>\n",
       "      <td>4</td>\n",
       "      <td>28.0</td>\n",
       "      <td>10000.0</td>\n",
       "    </tr>\n",
       "    <tr>\n",
       "      <th>52352</th>\n",
       "      <td>1</td>\n",
       "      <td>DMI0000848461</td>\n",
       "      <td>SL52352_1531399039</td>\n",
       "      <td>Ravi LNU</td>\n",
       "      <td>24800</td>\n",
       "      <td>21000</td>\n",
       "      <td>URBANCLAP TECHNOLOGIES INDIA PVT LTD</td>\n",
       "      <td>7105006973</td>\n",
       "      <td>ICIC0000071</td>\n",
       "      <td>KKBK182123085658</td>\n",
       "      <td>7/31/2018</td>\n",
       "      <td>9/5/2018</td>\n",
       "      <td>1</td>\n",
       "      <td>24800.0</td>\n",
       "      <td>4</td>\n",
       "      <td>28.0</td>\n",
       "      <td>6200.0</td>\n",
       "    </tr>\n",
       "    <tr>\n",
       "      <th>55914</th>\n",
       "      <td>2</td>\n",
       "      <td>DMI0000848284</td>\n",
       "      <td>SL55914_1531405226</td>\n",
       "      <td>B Thanmawia</td>\n",
       "      <td>24800</td>\n",
       "      <td>21000</td>\n",
       "      <td>URBANCLAP TECHNOLOGIES INDIA PVT LTD</td>\n",
       "      <td>7105006973</td>\n",
       "      <td>ICIC0000071</td>\n",
       "      <td>KKBK182123085652</td>\n",
       "      <td>7/31/2018</td>\n",
       "      <td>9/5/2018</td>\n",
       "      <td>2</td>\n",
       "      <td>24800.0</td>\n",
       "      <td>4</td>\n",
       "      <td>28.0</td>\n",
       "      <td>6200.0</td>\n",
       "    </tr>\n",
       "    <tr>\n",
       "      <th>56360</th>\n",
       "      <td>3</td>\n",
       "      <td>DMI0000835681</td>\n",
       "      <td>SL56360_1531482996</td>\n",
       "      <td>ABHILASH KISHOR</td>\n",
       "      <td>24800</td>\n",
       "      <td>21000</td>\n",
       "      <td>URBANCLAP TECHNOLOGIES INDIA PVT LTD</td>\n",
       "      <td>7105006973</td>\n",
       "      <td>ICIC0000071</td>\n",
       "      <td>KKBK182123085697</td>\n",
       "      <td>7/31/2018</td>\n",
       "      <td>9/5/2018</td>\n",
       "      <td>3</td>\n",
       "      <td>24800.0</td>\n",
       "      <td>4</td>\n",
       "      <td>28.0</td>\n",
       "      <td>6200.0</td>\n",
       "    </tr>\n",
       "    <tr>\n",
       "      <th>56307</th>\n",
       "      <td>4</td>\n",
       "      <td>DMI0000848385</td>\n",
       "      <td>SL56307_1531734755</td>\n",
       "      <td>Narjis LNU</td>\n",
       "      <td>40000</td>\n",
       "      <td>34500</td>\n",
       "      <td>URBANCLAP TECHNOLOGIES INDIA PVT LTD</td>\n",
       "      <td>7105006973</td>\n",
       "      <td>ICIC0000071</td>\n",
       "      <td>KKBK182123085627</td>\n",
       "      <td>7/31/2018</td>\n",
       "      <td>9/5/2018</td>\n",
       "      <td>4</td>\n",
       "      <td>40000.0</td>\n",
       "      <td>4</td>\n",
       "      <td>28.0</td>\n",
       "      <td>10000.0</td>\n",
       "    </tr>\n",
       "  </tbody>\n",
       "</table>\n",
       "</div>"
      ],
      "text/plain": [
       "                index Opportunity_Name      Application_Id  \\\n",
       "Application_ID                                               \n",
       "43812               0    DMI0000845552  SL43812_1532676985   \n",
       "52352               1    DMI0000848461  SL52352_1531399039   \n",
       "55914               2    DMI0000848284  SL55914_1531405226   \n",
       "56360               3    DMI0000835681  SL56360_1531482996   \n",
       "56307               4    DMI0000848385  SL56307_1531734755   \n",
       "\n",
       "                      Account_Name  Sanction_Amount  Net_Amount_TBD  \\\n",
       "Application_ID                                                        \n",
       "43812           Nanda Tanaji Patil            40000           34500   \n",
       "52352                     Ravi LNU            24800           21000   \n",
       "55914                  B Thanmawia            24800           21000   \n",
       "56360              ABHILASH KISHOR            24800           21000   \n",
       "56307                   Narjis LNU            40000           34500   \n",
       "\n",
       "                                     Beneficiary_Name  Beneficiary_Acc_No  \\\n",
       "Application_ID                                                              \n",
       "43812           URBAN CLAP TECHNOLOGIES INDIA PVT LTD          7105006973   \n",
       "52352            URBANCLAP TECHNOLOGIES INDIA PVT LTD          7105006973   \n",
       "55914            URBANCLAP TECHNOLOGIES INDIA PVT LTD          7105006973   \n",
       "56360            URBANCLAP TECHNOLOGIES INDIA PVT LTD          7105006973   \n",
       "56307            URBANCLAP TECHNOLOGIES INDIA PVT LTD          7105006973   \n",
       "\n",
       "                  IFSC_Code        UTR_Number Close_Date  EMI_date  \\\n",
       "Application_ID                                                       \n",
       "43812           ICIC0000071  KKBK182123085655  7/31/2018  9/5/2018   \n",
       "52352           ICIC0000071  KKBK182123085658  7/31/2018  9/5/2018   \n",
       "55914           ICIC0000071  KKBK182123085652  7/31/2018  9/5/2018   \n",
       "56360           ICIC0000071  KKBK182123085697  7/31/2018  9/5/2018   \n",
       "56307           ICIC0000071  KKBK182123085627  7/31/2018  9/5/2018   \n",
       "\n",
       "                Unnamed: 0  loan_amount  tenure   roi      emi  \n",
       "Application_ID                                                  \n",
       "43812                    0      40000.0       4  28.0  10000.0  \n",
       "52352                    1      24800.0       4  28.0   6200.0  \n",
       "55914                    2      24800.0       4  28.0   6200.0  \n",
       "56360                    3      24800.0       4  28.0   6200.0  \n",
       "56307                    4      40000.0       4  28.0  10000.0  "
      ]
     },
     "execution_count": 33,
     "metadata": {},
     "output_type": "execute_result"
    }
   ],
   "source": [
    "Data_with_EMI.head()"
   ]
  },
  {
   "cell_type": "code",
   "execution_count": 34,
   "metadata": {},
   "outputs": [
    {
     "data": {
      "text/plain": [
       "11"
      ]
     },
     "execution_count": 34,
     "metadata": {},
     "output_type": "execute_result"
    }
   ],
   "source": [
    "len(Data_with_EMI)"
   ]
  },
  {
   "cell_type": "code",
   "execution_count": 35,
   "metadata": {},
   "outputs": [
    {
     "data": {
      "text/plain": [
       "Index(['index', 'Opportunity_Name', 'Application_Id', ' Account_Name',\n",
       "       'Sanction_Amount', 'Net_Amount_TBD', 'Beneficiary_Name',\n",
       "       'Beneficiary_Acc_No', ' IFSC_Code', 'UTR_Number', 'Close_Date',\n",
       "       'EMI_date', 'Unnamed: 0', 'loan_amount', 'tenure', 'roi', 'emi'],\n",
       "      dtype='object')"
      ]
     },
     "execution_count": 35,
     "metadata": {},
     "output_type": "execute_result"
    }
   ],
   "source": [
    "Data_with_EMI.columns"
   ]
  },
  {
   "cell_type": "code",
   "execution_count": 36,
   "metadata": {},
   "outputs": [],
   "source": [
    "Data_with_EMI = Data_with_EMI[['Application_Id', 'Close_Date', 'EMI_date', 'Opportunity_Name', 'emi', 'UTR_Number']]"
   ]
  },
  {
   "cell_type": "code",
   "execution_count": 37,
   "metadata": {},
   "outputs": [
    {
     "data": {
      "text/html": [
       "<div>\n",
       "<style scoped>\n",
       "    .dataframe tbody tr th:only-of-type {\n",
       "        vertical-align: middle;\n",
       "    }\n",
       "\n",
       "    .dataframe tbody tr th {\n",
       "        vertical-align: top;\n",
       "    }\n",
       "\n",
       "    .dataframe thead th {\n",
       "        text-align: right;\n",
       "    }\n",
       "</style>\n",
       "<table border=\"1\" class=\"dataframe\">\n",
       "  <thead>\n",
       "    <tr style=\"text-align: right;\">\n",
       "      <th></th>\n",
       "      <th>Application_Id</th>\n",
       "      <th>Close_Date</th>\n",
       "      <th>EMI_date</th>\n",
       "      <th>Opportunity_Name</th>\n",
       "      <th>emi</th>\n",
       "      <th>UTR_Number</th>\n",
       "    </tr>\n",
       "    <tr>\n",
       "      <th>Application_ID</th>\n",
       "      <th></th>\n",
       "      <th></th>\n",
       "      <th></th>\n",
       "      <th></th>\n",
       "      <th></th>\n",
       "      <th></th>\n",
       "    </tr>\n",
       "  </thead>\n",
       "  <tbody>\n",
       "    <tr>\n",
       "      <th>43812</th>\n",
       "      <td>SL43812_1532676985</td>\n",
       "      <td>7/31/2018</td>\n",
       "      <td>9/5/2018</td>\n",
       "      <td>DMI0000845552</td>\n",
       "      <td>10000.0</td>\n",
       "      <td>KKBK182123085655</td>\n",
       "    </tr>\n",
       "    <tr>\n",
       "      <th>52352</th>\n",
       "      <td>SL52352_1531399039</td>\n",
       "      <td>7/31/2018</td>\n",
       "      <td>9/5/2018</td>\n",
       "      <td>DMI0000848461</td>\n",
       "      <td>6200.0</td>\n",
       "      <td>KKBK182123085658</td>\n",
       "    </tr>\n",
       "    <tr>\n",
       "      <th>55914</th>\n",
       "      <td>SL55914_1531405226</td>\n",
       "      <td>7/31/2018</td>\n",
       "      <td>9/5/2018</td>\n",
       "      <td>DMI0000848284</td>\n",
       "      <td>6200.0</td>\n",
       "      <td>KKBK182123085652</td>\n",
       "    </tr>\n",
       "    <tr>\n",
       "      <th>56360</th>\n",
       "      <td>SL56360_1531482996</td>\n",
       "      <td>7/31/2018</td>\n",
       "      <td>9/5/2018</td>\n",
       "      <td>DMI0000835681</td>\n",
       "      <td>6200.0</td>\n",
       "      <td>KKBK182123085697</td>\n",
       "    </tr>\n",
       "    <tr>\n",
       "      <th>56307</th>\n",
       "      <td>SL56307_1531734755</td>\n",
       "      <td>7/31/2018</td>\n",
       "      <td>9/5/2018</td>\n",
       "      <td>DMI0000848385</td>\n",
       "      <td>10000.0</td>\n",
       "      <td>KKBK182123085627</td>\n",
       "    </tr>\n",
       "  </tbody>\n",
       "</table>\n",
       "</div>"
      ],
      "text/plain": [
       "                    Application_Id Close_Date  EMI_date Opportunity_Name  \\\n",
       "Application_ID                                                             \n",
       "43812           SL43812_1532676985  7/31/2018  9/5/2018    DMI0000845552   \n",
       "52352           SL52352_1531399039  7/31/2018  9/5/2018    DMI0000848461   \n",
       "55914           SL55914_1531405226  7/31/2018  9/5/2018    DMI0000848284   \n",
       "56360           SL56360_1531482996  7/31/2018  9/5/2018    DMI0000835681   \n",
       "56307           SL56307_1531734755  7/31/2018  9/5/2018    DMI0000848385   \n",
       "\n",
       "                    emi        UTR_Number  \n",
       "Application_ID                             \n",
       "43812           10000.0  KKBK182123085655  \n",
       "52352            6200.0  KKBK182123085658  \n",
       "55914            6200.0  KKBK182123085652  \n",
       "56360            6200.0  KKBK182123085697  \n",
       "56307           10000.0  KKBK182123085627  "
      ]
     },
     "execution_count": 37,
     "metadata": {},
     "output_type": "execute_result"
    }
   ],
   "source": [
    "Data_with_EMI.head()"
   ]
  },
  {
   "cell_type": "code",
   "execution_count": 126,
   "metadata": {},
   "outputs": [],
   "source": [
    "# Data_with_EMI.to_csv(\"/home/prashant/Downloads/Puneeth_GM/Data_with_EMI_openM_final.csv\")"
   ]
  },
  {
   "cell_type": "code",
   "execution_count": 127,
   "metadata": {},
   "outputs": [],
   "source": [
    "# Data_with_EMI_1 = Data_with_EMI['emi_calc']"
   ]
  },
  {
   "cell_type": "code",
   "execution_count": 128,
   "metadata": {},
   "outputs": [],
   "source": [
    "# Data_with_EMI_1.isnull"
   ]
  },
  {
   "cell_type": "code",
   "execution_count": 38,
   "metadata": {},
   "outputs": [],
   "source": [
    "Data_with_EMI['New_Emi_date'] = Data_with_EMI.apply(lambda row:datetime.datetime.strptime(row['EMI_date'],\"%d/%m/%Y\"), axis=1)"
   ]
  },
  {
   "cell_type": "code",
   "execution_count": 39,
   "metadata": {},
   "outputs": [],
   "source": [
    "Data_with_EMI['New_Close_Date'] = Data_with_EMI.apply(lambda row:datetime.datetime.strptime(row['Close_Date'],\"%m/%d/%Y\"), axis=1)"
   ]
  },
  {
   "cell_type": "code",
   "execution_count": 10,
   "metadata": {},
   "outputs": [
    {
     "data": {
      "text/plain": [
       "'2018-05-05'"
      ]
     },
     "execution_count": 10,
     "metadata": {},
     "output_type": "execute_result"
    }
   ],
   "source": [
    "datetime.datetime.strptime(\"2018/05/05\", \"%Y/%m/%d\").strftime(\"%Y-%m-%d\")"
   ]
  },
  {
   "cell_type": "code",
   "execution_count": null,
   "metadata": {},
   "outputs": [],
   "source": [
    "datetime.datetime.strtime()"
   ]
  },
  {
   "cell_type": "code",
   "execution_count": 40,
   "metadata": {},
   "outputs": [
    {
     "data": {
      "text/html": [
       "<div>\n",
       "<style scoped>\n",
       "    .dataframe tbody tr th:only-of-type {\n",
       "        vertical-align: middle;\n",
       "    }\n",
       "\n",
       "    .dataframe tbody tr th {\n",
       "        vertical-align: top;\n",
       "    }\n",
       "\n",
       "    .dataframe thead th {\n",
       "        text-align: right;\n",
       "    }\n",
       "</style>\n",
       "<table border=\"1\" class=\"dataframe\">\n",
       "  <thead>\n",
       "    <tr style=\"text-align: right;\">\n",
       "      <th></th>\n",
       "      <th>Application_Id</th>\n",
       "      <th>Close_Date</th>\n",
       "      <th>EMI_date</th>\n",
       "      <th>Opportunity_Name</th>\n",
       "      <th>emi</th>\n",
       "      <th>UTR_Number</th>\n",
       "      <th>New_Emi_date</th>\n",
       "      <th>New_Close_Date</th>\n",
       "    </tr>\n",
       "    <tr>\n",
       "      <th>Application_ID</th>\n",
       "      <th></th>\n",
       "      <th></th>\n",
       "      <th></th>\n",
       "      <th></th>\n",
       "      <th></th>\n",
       "      <th></th>\n",
       "      <th></th>\n",
       "      <th></th>\n",
       "    </tr>\n",
       "  </thead>\n",
       "  <tbody>\n",
       "    <tr>\n",
       "      <th>43812</th>\n",
       "      <td>SL43812_1532676985</td>\n",
       "      <td>7/31/2018</td>\n",
       "      <td>9/5/2018</td>\n",
       "      <td>DMI0000845552</td>\n",
       "      <td>10000.0</td>\n",
       "      <td>KKBK182123085655</td>\n",
       "      <td>2018-05-09</td>\n",
       "      <td>2018-07-31</td>\n",
       "    </tr>\n",
       "    <tr>\n",
       "      <th>52352</th>\n",
       "      <td>SL52352_1531399039</td>\n",
       "      <td>7/31/2018</td>\n",
       "      <td>9/5/2018</td>\n",
       "      <td>DMI0000848461</td>\n",
       "      <td>6200.0</td>\n",
       "      <td>KKBK182123085658</td>\n",
       "      <td>2018-05-09</td>\n",
       "      <td>2018-07-31</td>\n",
       "    </tr>\n",
       "    <tr>\n",
       "      <th>55914</th>\n",
       "      <td>SL55914_1531405226</td>\n",
       "      <td>7/31/2018</td>\n",
       "      <td>9/5/2018</td>\n",
       "      <td>DMI0000848284</td>\n",
       "      <td>6200.0</td>\n",
       "      <td>KKBK182123085652</td>\n",
       "      <td>2018-05-09</td>\n",
       "      <td>2018-07-31</td>\n",
       "    </tr>\n",
       "    <tr>\n",
       "      <th>56360</th>\n",
       "      <td>SL56360_1531482996</td>\n",
       "      <td>7/31/2018</td>\n",
       "      <td>9/5/2018</td>\n",
       "      <td>DMI0000835681</td>\n",
       "      <td>6200.0</td>\n",
       "      <td>KKBK182123085697</td>\n",
       "      <td>2018-05-09</td>\n",
       "      <td>2018-07-31</td>\n",
       "    </tr>\n",
       "    <tr>\n",
       "      <th>56307</th>\n",
       "      <td>SL56307_1531734755</td>\n",
       "      <td>7/31/2018</td>\n",
       "      <td>9/5/2018</td>\n",
       "      <td>DMI0000848385</td>\n",
       "      <td>10000.0</td>\n",
       "      <td>KKBK182123085627</td>\n",
       "      <td>2018-05-09</td>\n",
       "      <td>2018-07-31</td>\n",
       "    </tr>\n",
       "  </tbody>\n",
       "</table>\n",
       "</div>"
      ],
      "text/plain": [
       "                    Application_Id Close_Date  EMI_date Opportunity_Name  \\\n",
       "Application_ID                                                             \n",
       "43812           SL43812_1532676985  7/31/2018  9/5/2018    DMI0000845552   \n",
       "52352           SL52352_1531399039  7/31/2018  9/5/2018    DMI0000848461   \n",
       "55914           SL55914_1531405226  7/31/2018  9/5/2018    DMI0000848284   \n",
       "56360           SL56360_1531482996  7/31/2018  9/5/2018    DMI0000835681   \n",
       "56307           SL56307_1531734755  7/31/2018  9/5/2018    DMI0000848385   \n",
       "\n",
       "                    emi        UTR_Number New_Emi_date New_Close_Date  \n",
       "Application_ID                                                         \n",
       "43812           10000.0  KKBK182123085655   2018-05-09     2018-07-31  \n",
       "52352            6200.0  KKBK182123085658   2018-05-09     2018-07-31  \n",
       "55914            6200.0  KKBK182123085652   2018-05-09     2018-07-31  \n",
       "56360            6200.0  KKBK182123085697   2018-05-09     2018-07-31  \n",
       "56307           10000.0  KKBK182123085627   2018-05-09     2018-07-31  "
      ]
     },
     "execution_count": 40,
     "metadata": {},
     "output_type": "execute_result"
    }
   ],
   "source": [
    "Data_with_EMI.head()"
   ]
  },
  {
   "cell_type": "code",
   "execution_count": 31,
   "metadata": {},
   "outputs": [],
   "source": [
    "# Data_with_EMI.head()"
   ]
  },
  {
   "cell_type": "code",
   "execution_count": 33,
   "metadata": {},
   "outputs": [],
   "source": [
    "# Data_with_EMI['New_Emi_date_1'] = Data_with_EMI.apply(lambda row: datetime.datetime.strftime(row['New_Emi_date_1'],\"%Y-%m-%d\"), axis=1)"
   ]
  },
  {
   "cell_type": "code",
   "execution_count": 34,
   "metadata": {},
   "outputs": [],
   "source": [
    "# Data_with_EMI['New_Close_Date_1'] = Data_with_EMI.apply(lambda row: datetime.datetime.strftime(row['Close_Date'],\"%Y-%m-%d\"), axis=1)"
   ]
  },
  {
   "cell_type": "code",
   "execution_count": 41,
   "metadata": {},
   "outputs": [
    {
     "data": {
      "text/html": [
       "<div>\n",
       "<style scoped>\n",
       "    .dataframe tbody tr th:only-of-type {\n",
       "        vertical-align: middle;\n",
       "    }\n",
       "\n",
       "    .dataframe tbody tr th {\n",
       "        vertical-align: top;\n",
       "    }\n",
       "\n",
       "    .dataframe thead th {\n",
       "        text-align: right;\n",
       "    }\n",
       "</style>\n",
       "<table border=\"1\" class=\"dataframe\">\n",
       "  <thead>\n",
       "    <tr style=\"text-align: right;\">\n",
       "      <th></th>\n",
       "      <th>Application_Id</th>\n",
       "      <th>Close_Date</th>\n",
       "      <th>EMI_date</th>\n",
       "      <th>Opportunity_Name</th>\n",
       "      <th>emi</th>\n",
       "      <th>UTR_Number</th>\n",
       "      <th>New_Emi_date</th>\n",
       "      <th>New_Close_Date</th>\n",
       "    </tr>\n",
       "    <tr>\n",
       "      <th>Application_ID</th>\n",
       "      <th></th>\n",
       "      <th></th>\n",
       "      <th></th>\n",
       "      <th></th>\n",
       "      <th></th>\n",
       "      <th></th>\n",
       "      <th></th>\n",
       "      <th></th>\n",
       "    </tr>\n",
       "  </thead>\n",
       "  <tbody>\n",
       "    <tr>\n",
       "      <th>43812</th>\n",
       "      <td>SL43812_1532676985</td>\n",
       "      <td>7/31/2018</td>\n",
       "      <td>9/5/2018</td>\n",
       "      <td>DMI0000845552</td>\n",
       "      <td>10000.0</td>\n",
       "      <td>KKBK182123085655</td>\n",
       "      <td>2018-05-09</td>\n",
       "      <td>2018-07-31</td>\n",
       "    </tr>\n",
       "    <tr>\n",
       "      <th>52352</th>\n",
       "      <td>SL52352_1531399039</td>\n",
       "      <td>7/31/2018</td>\n",
       "      <td>9/5/2018</td>\n",
       "      <td>DMI0000848461</td>\n",
       "      <td>6200.0</td>\n",
       "      <td>KKBK182123085658</td>\n",
       "      <td>2018-05-09</td>\n",
       "      <td>2018-07-31</td>\n",
       "    </tr>\n",
       "    <tr>\n",
       "      <th>55914</th>\n",
       "      <td>SL55914_1531405226</td>\n",
       "      <td>7/31/2018</td>\n",
       "      <td>9/5/2018</td>\n",
       "      <td>DMI0000848284</td>\n",
       "      <td>6200.0</td>\n",
       "      <td>KKBK182123085652</td>\n",
       "      <td>2018-05-09</td>\n",
       "      <td>2018-07-31</td>\n",
       "    </tr>\n",
       "    <tr>\n",
       "      <th>56360</th>\n",
       "      <td>SL56360_1531482996</td>\n",
       "      <td>7/31/2018</td>\n",
       "      <td>9/5/2018</td>\n",
       "      <td>DMI0000835681</td>\n",
       "      <td>6200.0</td>\n",
       "      <td>KKBK182123085697</td>\n",
       "      <td>2018-05-09</td>\n",
       "      <td>2018-07-31</td>\n",
       "    </tr>\n",
       "    <tr>\n",
       "      <th>56307</th>\n",
       "      <td>SL56307_1531734755</td>\n",
       "      <td>7/31/2018</td>\n",
       "      <td>9/5/2018</td>\n",
       "      <td>DMI0000848385</td>\n",
       "      <td>10000.0</td>\n",
       "      <td>KKBK182123085627</td>\n",
       "      <td>2018-05-09</td>\n",
       "      <td>2018-07-31</td>\n",
       "    </tr>\n",
       "  </tbody>\n",
       "</table>\n",
       "</div>"
      ],
      "text/plain": [
       "                    Application_Id Close_Date  EMI_date Opportunity_Name  \\\n",
       "Application_ID                                                             \n",
       "43812           SL43812_1532676985  7/31/2018  9/5/2018    DMI0000845552   \n",
       "52352           SL52352_1531399039  7/31/2018  9/5/2018    DMI0000848461   \n",
       "55914           SL55914_1531405226  7/31/2018  9/5/2018    DMI0000848284   \n",
       "56360           SL56360_1531482996  7/31/2018  9/5/2018    DMI0000835681   \n",
       "56307           SL56307_1531734755  7/31/2018  9/5/2018    DMI0000848385   \n",
       "\n",
       "                    emi        UTR_Number New_Emi_date New_Close_Date  \n",
       "Application_ID                                                         \n",
       "43812           10000.0  KKBK182123085655   2018-05-09     2018-07-31  \n",
       "52352            6200.0  KKBK182123085658   2018-05-09     2018-07-31  \n",
       "55914            6200.0  KKBK182123085652   2018-05-09     2018-07-31  \n",
       "56360            6200.0  KKBK182123085697   2018-05-09     2018-07-31  \n",
       "56307           10000.0  KKBK182123085627   2018-05-09     2018-07-31  "
      ]
     },
     "execution_count": 41,
     "metadata": {},
     "output_type": "execute_result"
    }
   ],
   "source": [
    "Data_with_EMI.head()"
   ]
  },
  {
   "cell_type": "code",
   "execution_count": 44,
   "metadata": {},
   "outputs": [],
   "source": [
    "Data_with_EMI = Data_with_EMI[['Application_Id','New_Emi_date','Opportunity_Name', 'emi', 'UTR_Number', 'New_Close_Date']]"
   ]
  },
  {
   "cell_type": "code",
   "execution_count": 48,
   "metadata": {
    "scrolled": true
   },
   "outputs": [
    {
     "data": {
      "text/plain": [
       "<bound method NDFrame.head of                     Application_Id New_Emi_date Opportunity_Name      emi  \\\n",
       "Application_ID                                                              \n",
       "43812           SL43812_1532676985   2018-05-09    DMI0000845552  10000.0   \n",
       "52352           SL52352_1531399039   2018-05-09    DMI0000848461   6200.0   \n",
       "55914           SL55914_1531405226   2018-05-09    DMI0000848284   6200.0   \n",
       "56360           SL56360_1531482996   2018-05-09    DMI0000835681   6200.0   \n",
       "56307           SL56307_1531734755   2018-05-09    DMI0000848385  10000.0   \n",
       "58737           SL58737_1531738865   2018-05-09    DMI0000846239   6200.0   \n",
       "57575           SL57575_1531831267   2018-05-09    DMI0000848533  10000.0   \n",
       "60425           SL60425_1532004597   2018-05-09    DMI0000848344   7337.5   \n",
       "60535           SL60535_1532073215   2018-05-09    DMI0000836005  10000.0   \n",
       "61266           SL61266_1532171650   2018-05-09    DMI0000839392   6200.0   \n",
       "60538           SL60538_1532346389   2018-05-09    DMI0000836319  10000.0   \n",
       "\n",
       "                      UTR_Number New_Close_Date  \n",
       "Application_ID                                   \n",
       "43812           KKBK182123085655     2018-07-31  \n",
       "52352           KKBK182123085658     2018-07-31  \n",
       "55914           KKBK182123085652     2018-07-31  \n",
       "56360           KKBK182123085697     2018-07-31  \n",
       "56307           KKBK182123085627     2018-07-31  \n",
       "58737           KKBK182123085592     2018-07-31  \n",
       "57575           KKBK182123085629     2018-07-31  \n",
       "60425           KKBK182123085608     2018-07-31  \n",
       "60535           KKBK182123085558     2018-07-31  \n",
       "61266           KKBK182123085521     2018-07-31  \n",
       "60538           KKBK182123085621     2018-07-31  >"
      ]
     },
     "execution_count": 48,
     "metadata": {},
     "output_type": "execute_result"
    }
   ],
   "source": [
    "Data_with_EMI.head"
   ]
  },
  {
   "cell_type": "code",
   "execution_count": 47,
   "metadata": {},
   "outputs": [
    {
     "data": {
      "text/plain": [
       "11"
      ]
     },
     "execution_count": 47,
     "metadata": {},
     "output_type": "execute_result"
    }
   ],
   "source": [
    "len(Data_with_EMI)"
   ]
  },
  {
   "cell_type": "code",
   "execution_count": null,
   "metadata": {},
   "outputs": [],
   "source": [
    "# struct_time = time.strptime(\"30 Nov 00\", \"%d %b %y\")\n"
   ]
  },
  {
   "cell_type": "code",
   "execution_count": null,
   "metadata": {},
   "outputs": [],
   "source": [
    "# struct_time"
   ]
  },
  {
   "cell_type": "code",
   "execution_count": 46,
   "metadata": {},
   "outputs": [],
   "source": [
    "Data_with_EMI.to_csv(\"/home/prashant/Downloads/Puneeth_GM/Data_with_EMI_UC_final.csv\")"
   ]
  },
  {
   "cell_type": "code",
   "execution_count": null,
   "metadata": {},
   "outputs": [],
   "source": []
  }
 ],
 "metadata": {
  "kernelspec": {
   "display_name": "Python 3",
   "language": "python",
   "name": "python3"
  },
  "language_info": {
   "codemirror_mode": {
    "name": "ipython",
    "version": 3
   },
   "file_extension": ".py",
   "mimetype": "text/x-python",
   "name": "python",
   "nbconvert_exporter": "python",
   "pygments_lexer": "ipython3",
   "version": "3.6.4"
  }
 },
 "nbformat": 4,
 "nbformat_minor": 2
}
