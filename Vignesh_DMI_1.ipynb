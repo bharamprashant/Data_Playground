{
 "cells": [
  {
   "cell_type": "code",
   "execution_count": 1,
   "metadata": {},
   "outputs": [],
   "source": [
    "import pandas as pd"
   ]
  },
  {
   "cell_type": "code",
   "execution_count": 2,
   "metadata": {},
   "outputs": [],
   "source": [
    "data  = pd.read_csv(\"/home/prashant/Downloads/vignesh/nach_status_DMI_INCRED.csv\")"
   ]
  },
  {
   "cell_type": "code",
   "execution_count": 3,
   "metadata": {},
   "outputs": [
    {
     "data": {
      "text/html": [
       "<div>\n",
       "<style scoped>\n",
       "    .dataframe tbody tr th:only-of-type {\n",
       "        vertical-align: middle;\n",
       "    }\n",
       "\n",
       "    .dataframe tbody tr th {\n",
       "        vertical-align: top;\n",
       "    }\n",
       "\n",
       "    .dataframe thead th {\n",
       "        text-align: right;\n",
       "    }\n",
       "</style>\n",
       "<table border=\"1\" class=\"dataframe\">\n",
       "  <thead>\n",
       "    <tr style=\"text-align: right;\">\n",
       "      <th></th>\n",
       "      <th>loan_id</th>\n",
       "      <th>lender_id</th>\n",
       "      <th>NACH_status</th>\n",
       "    </tr>\n",
       "  </thead>\n",
       "  <tbody>\n",
       "    <tr>\n",
       "      <th>0</th>\n",
       "      <td>6123</td>\n",
       "      <td>184</td>\n",
       "      <td>ACTIVATED</td>\n",
       "    </tr>\n",
       "    <tr>\n",
       "      <th>1</th>\n",
       "      <td>6549</td>\n",
       "      <td>184</td>\n",
       "      <td>ACTIVATED</td>\n",
       "    </tr>\n",
       "    <tr>\n",
       "      <th>2</th>\n",
       "      <td>6607</td>\n",
       "      <td>184</td>\n",
       "      <td>ACTIVATED</td>\n",
       "    </tr>\n",
       "    <tr>\n",
       "      <th>3</th>\n",
       "      <td>6643</td>\n",
       "      <td>184</td>\n",
       "      <td>ACTIVATED</td>\n",
       "    </tr>\n",
       "    <tr>\n",
       "      <th>4</th>\n",
       "      <td>6717</td>\n",
       "      <td>184</td>\n",
       "      <td>ACTIVATED</td>\n",
       "    </tr>\n",
       "  </tbody>\n",
       "</table>\n",
       "</div>"
      ],
      "text/plain": [
       "   loan_id  lender_id NACH_status\n",
       "0     6123        184   ACTIVATED\n",
       "1     6549        184   ACTIVATED\n",
       "2     6607        184   ACTIVATED\n",
       "3     6643        184   ACTIVATED\n",
       "4     6717        184   ACTIVATED"
      ]
     },
     "execution_count": 3,
     "metadata": {},
     "output_type": "execute_result"
    }
   ],
   "source": [
    "data.head()"
   ]
  },
  {
   "cell_type": "code",
   "execution_count": 4,
   "metadata": {},
   "outputs": [],
   "source": [
    "comp = pd.read_csv(\"/home/prashant/Downloads/vignesh/DMI_INCRED.csv\")"
   ]
  },
  {
   "cell_type": "code",
   "execution_count": 5,
   "metadata": {},
   "outputs": [
    {
     "data": {
      "text/html": [
       "<div>\n",
       "<style scoped>\n",
       "    .dataframe tbody tr th:only-of-type {\n",
       "        vertical-align: middle;\n",
       "    }\n",
       "\n",
       "    .dataframe tbody tr th {\n",
       "        vertical-align: top;\n",
       "    }\n",
       "\n",
       "    .dataframe thead th {\n",
       "        text-align: right;\n",
       "    }\n",
       "</style>\n",
       "<table border=\"1\" class=\"dataframe\">\n",
       "  <thead>\n",
       "    <tr style=\"text-align: right;\">\n",
       "      <th></th>\n",
       "      <th>application_id</th>\n",
       "      <th>loan_id</th>\n",
       "    </tr>\n",
       "  </thead>\n",
       "  <tbody>\n",
       "    <tr>\n",
       "      <th>0</th>\n",
       "      <td>39227</td>\n",
       "      <td>6123</td>\n",
       "    </tr>\n",
       "    <tr>\n",
       "      <th>1</th>\n",
       "      <td>43750</td>\n",
       "      <td>6549</td>\n",
       "    </tr>\n",
       "    <tr>\n",
       "      <th>2</th>\n",
       "      <td>43611</td>\n",
       "      <td>6607</td>\n",
       "    </tr>\n",
       "    <tr>\n",
       "      <th>3</th>\n",
       "      <td>43780</td>\n",
       "      <td>6643</td>\n",
       "    </tr>\n",
       "    <tr>\n",
       "      <th>4</th>\n",
       "      <td>44911</td>\n",
       "      <td>6717</td>\n",
       "    </tr>\n",
       "  </tbody>\n",
       "</table>\n",
       "</div>"
      ],
      "text/plain": [
       "   application_id  loan_id\n",
       "0           39227     6123\n",
       "1           43750     6549\n",
       "2           43611     6607\n",
       "3           43780     6643\n",
       "4           44911     6717"
      ]
     },
     "execution_count": 5,
     "metadata": {},
     "output_type": "execute_result"
    }
   ],
   "source": [
    "comp.head()"
   ]
  },
  {
   "cell_type": "code",
   "execution_count": 6,
   "metadata": {},
   "outputs": [],
   "source": [
    "DMI_INCRED_FINAL = data.set_index('loan_id').join(comp.set_index('loan_id'))"
   ]
  },
  {
   "cell_type": "code",
   "execution_count": 7,
   "metadata": {},
   "outputs": [
    {
     "data": {
      "text/plain": [
       "<bound method NDFrame.head of          lender_id NACH_status  application_id\n",
       "loan_id                                       \n",
       "6123           184   ACTIVATED           39227\n",
       "6549           184   ACTIVATED           43750\n",
       "6607           184   ACTIVATED           43611\n",
       "6643           184   ACTIVATED           43780\n",
       "6717           184   ACTIVATED           44911\n",
       "6755           184   ACTIVATED           44016\n",
       "6775           182   ACTIVATED           43540\n",
       "6795           184   ACTIVATED           45467\n",
       "6807           184   ACTIVATED           42233\n",
       "6865           184   ACTIVATED           44369\n",
       "6915           184   ACTIVATED           45996\n",
       "6929           184   ACTIVATED           46084\n",
       "6991           184   ACTIVATED           46337\n",
       "6997           184   ACTIVATED           46634\n",
       "7035           184   ACTIVATED           46962\n",
       "7039           184   ACTIVATED           46649\n",
       "7045           184   ACTIVATED           47052\n",
       "7049           184   ACTIVATED           46928\n",
       "7055           184   ACTIVATED           44494\n",
       "7063           184   ACTIVATED           46002\n",
       "7067           184   ACTIVATED           47184\n",
       "7073           184   ACTIVATED           46880\n",
       "7075           184   ACTIVATED           47169\n",
       "7077           184   ACTIVATED           47283\n",
       "7097           184   ACTIVATED           47226\n",
       "7107           184   ACTIVATED           47230\n",
       "7133           184   ACTIVATED           48165\n",
       "7139           184   ACTIVATED           48308\n",
       "7141           184   ACTIVATED           48161\n",
       "7155           184   ACTIVATED           48479\n",
       "...            ...         ...             ...\n",
       "7444           182   ACTIVATED           50390\n",
       "7446           184   ACTIVATED           50728\n",
       "7460           182   ACTIVATED           50489\n",
       "7472           184   ACTIVATED           50662\n",
       "7482           184   ACTIVATED           50833\n",
       "7504           184   ACTIVATED           51099\n",
       "7506           184   ACTIVATED           51214\n",
       "7510           184   ACTIVATED           51329\n",
       "7518           184   ACTIVATED           50340\n",
       "7522           184   ACTIVATED           51469\n",
       "7530           182   ACTIVATED           51305\n",
       "7534           184   ACTIVATED           51449\n",
       "7538           182   ACTIVATED           51666\n",
       "7542           184   ACTIVATED           51409\n",
       "7546           182   ACTIVATED           51641\n",
       "7548           184   ACTIVATED           51729\n",
       "7550           182   ACTIVATED           51752\n",
       "7558           184   ACTIVATED           51853\n",
       "7572           184   ACTIVATED           51730\n",
       "7578           184   ACTIVATED           51886\n",
       "7594           184   ACTIVATED           51898\n",
       "7620           182   ACTIVATED           51887\n",
       "7642           184   ACTIVATED           52188\n",
       "7652           182   ACTIVATED           52217\n",
       "7658           184   ACTIVATED           52204\n",
       "7664           184   ACTIVATED           52285\n",
       "7682           182   ACTIVATED           52399\n",
       "7698           184   ACTIVATED           52415\n",
       "7718           184   ACTIVATED           52350\n",
       "7782           184   ACTIVATED           53148\n",
       "\n",
       "[171 rows x 3 columns]>"
      ]
     },
     "execution_count": 7,
     "metadata": {},
     "output_type": "execute_result"
    }
   ],
   "source": [
    "DMI_INCRED_FINAL.head"
   ]
  },
  {
   "cell_type": "code",
   "execution_count": 9,
   "metadata": {},
   "outputs": [],
   "source": [
    "DMI_INCRED_FINAL.to_csv('/home/prashant/Downloads/vignesh/DMI_INCRED_final.csv')"
   ]
  },
  {
   "cell_type": "code",
   "execution_count": null,
   "metadata": {},
   "outputs": [],
   "source": []
  }
 ],
 "metadata": {
  "kernelspec": {
   "display_name": "Python 3",
   "language": "python",
   "name": "python3"
  },
  "language_info": {
   "codemirror_mode": {
    "name": "ipython",
    "version": 3
   },
   "file_extension": ".py",
   "mimetype": "text/x-python",
   "name": "python",
   "nbconvert_exporter": "python",
   "pygments_lexer": "ipython3",
   "version": "3.6.4"
  }
 },
 "nbformat": 4,
 "nbformat_minor": 2
}
