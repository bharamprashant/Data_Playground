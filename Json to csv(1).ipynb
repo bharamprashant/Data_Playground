{
 "cells": [
  {
   "cell_type": "code",
   "execution_count": 6,
   "metadata": {},
   "outputs": [],
   "source": [
    "import pandas as pd\n",
    "import json"
   ]
  },
  {
   "cell_type": "code",
   "execution_count": 12,
   "metadata": {},
   "outputs": [],
   "source": [
    "f = open('reject_substatus.json', 'r')\n",
    "content = f.read()\n",
    "content = json.loads(content)\n",
    "data = content['data']"
   ]
  },
  {
   "cell_type": "code",
   "execution_count": 15,
   "metadata": {},
   "outputs": [
    {
     "data": {
      "text/html": [
       "<div>\n",
       "<style scoped>\n",
       "    .dataframe tbody tr th:only-of-type {\n",
       "        vertical-align: middle;\n",
       "    }\n",
       "\n",
       "    .dataframe tbody tr th {\n",
       "        vertical-align: top;\n",
       "    }\n",
       "\n",
       "    .dataframe thead th {\n",
       "        text-align: right;\n",
       "    }\n",
       "</style>\n",
       "<table border=\"1\" class=\"dataframe\">\n",
       "  <thead>\n",
       "    <tr style=\"text-align: right;\">\n",
       "      <th></th>\n",
       "      <th>actor</th>\n",
       "      <th>applicationid</th>\n",
       "      <th>from_status</th>\n",
       "      <th>substatuses</th>\n",
       "      <th>userid</th>\n",
       "    </tr>\n",
       "  </thead>\n",
       "  <tbody>\n",
       "    <tr>\n",
       "      <th>0</th>\n",
       "      <td>avijit.mohanty</td>\n",
       "      <td>190</td>\n",
       "      <td>CREDIT_PENDING</td>\n",
       "      <td>[\"FOIR\"]</td>\n",
       "      <td>675</td>\n",
       "    </tr>\n",
       "    <tr>\n",
       "      <th>1</th>\n",
       "      <td>sumalatha.thadimari</td>\n",
       "      <td>12723</td>\n",
       "      <td>INITIATED</td>\n",
       "      <td>[\"FOIR\"]</td>\n",
       "      <td>95686</td>\n",
       "    </tr>\n",
       "    <tr>\n",
       "      <th>2</th>\n",
       "      <td>sumalatha.thadimari</td>\n",
       "      <td>43304</td>\n",
       "      <td>INITIATED</td>\n",
       "      <td>[\"FOIR\", \"POST_WRITTEN_OFF_SETTLED\"]</td>\n",
       "      <td>369676</td>\n",
       "    </tr>\n",
       "    <tr>\n",
       "      <th>3</th>\n",
       "      <td>avijit.mohanty</td>\n",
       "      <td>43343</td>\n",
       "      <td>INITIATED</td>\n",
       "      <td>[\"FOIR\"]</td>\n",
       "      <td>286157</td>\n",
       "    </tr>\n",
       "    <tr>\n",
       "      <th>4</th>\n",
       "      <td>prashanth.eswaramoorti</td>\n",
       "      <td>43394</td>\n",
       "      <td>INITIATED</td>\n",
       "      <td>[\"FOIR\"]</td>\n",
       "      <td>292304</td>\n",
       "    </tr>\n",
       "  </tbody>\n",
       "</table>\n",
       "</div>"
      ],
      "text/plain": [
       "                    actor  applicationid     from_status  \\\n",
       "0          avijit.mohanty            190  CREDIT_PENDING   \n",
       "1     sumalatha.thadimari          12723       INITIATED   \n",
       "2     sumalatha.thadimari          43304       INITIATED   \n",
       "3          avijit.mohanty          43343       INITIATED   \n",
       "4  prashanth.eswaramoorti          43394       INITIATED   \n",
       "\n",
       "                            substatuses  userid  \n",
       "0                              [\"FOIR\"]     675  \n",
       "1                              [\"FOIR\"]   95686  \n",
       "2  [\"FOIR\", \"POST_WRITTEN_OFF_SETTLED\"]  369676  \n",
       "3                              [\"FOIR\"]  286157  \n",
       "4                              [\"FOIR\"]  292304  "
      ]
     },
     "execution_count": 15,
     "metadata": {},
     "output_type": "execute_result"
    }
   ],
   "source": [
    "df = pd.DataFrame(data)\n",
    "df.head()"
   ]
  },
  {
   "cell_type": "code",
   "execution_count": 17,
   "metadata": {},
   "outputs": [],
   "source": [
    "df.to_csv('credit_data.csv')"
   ]
  },
  {
   "cell_type": "code",
   "execution_count": null,
   "metadata": {},
   "outputs": [],
   "source": []
  }
 ],
 "metadata": {
  "kernelspec": {
   "display_name": "Python 3",
   "language": "python",
   "name": "python3"
  },
  "language_info": {
   "codemirror_mode": {
    "name": "ipython",
    "version": 3
   },
   "file_extension": ".py",
   "mimetype": "text/x-python",
   "name": "python",
   "nbconvert_exporter": "python",
   "pygments_lexer": "ipython3",
   "version": "3.6.4"
  }
 },
 "nbformat": 4,
 "nbformat_minor": 2
}
